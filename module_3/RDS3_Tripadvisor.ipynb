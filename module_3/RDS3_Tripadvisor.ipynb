{
 "cells": [
  {
   "cell_type": "markdown",
   "metadata": {},
   "source": [
    "# Предсказание рейтинга ресторана на сайте TripAdvisor\n",
    "Есть сведения о 50 000 ресторанах Европы, взятые с сайта TripAdvisor\n",
    "\n",
    "**Цель**: самостоятельно очистить довольно сильно загрязнённый датасет, извлечь из него несколько новых признаков и подготовить данные для обучения модель.  Есть уже готовая модель, которая будет предсказывать рейтинг ресторана по данным сайта TripAdvisor на основе имеющихся в датасете данных."
   ]
  },
  {
   "cell_type": "markdown",
   "metadata": {},
   "source": [
    "# import"
   ]
  },
  {
   "cell_type": "code",
   "execution_count": 1,
   "metadata": {
    "_cell_guid": "b1076dfc-b9ad-4769-8c92-a6c4dae69d19",
    "_uuid": "8f2839f25d086af736a60e9eeb907d3b93b6e0e5"
   },
   "outputs": [],
   "source": [
    "# This Python 3 environment comes with many helpful analytics libraries installed\n",
    "# It is defined by the kaggle/python docker image: https://github.com/kaggle/docker-python\n",
    "# For example, here's several helpful packages to load in\n",
    "\n",
    "import os\n",
    "from sklearn.model_selection import train_test_split\n",
    "import numpy as np  # linear algebra\n",
    "import pandas as pd  # data processing, CSV file I/O (e.g. pd.read_csv)\n",
    "\n",
    "import matplotlib.pyplot as plt\n",
    "import seaborn as sns\n",
    "%matplotlib inline\n",
    "\n",
    "# Загружаем специальный удобный инструмент для разделения датасета:\n",
    "\n",
    "# Input data files are available in the \"../input/\" directory.\n",
    "# For example, running this (by clicking run or pressing Shift+Enter) will list all files under the input directory\n",
    "\n",
    "for dirname, _, filenames in os.walk('/kaggle/input'):\n",
    "    for filename in filenames:\n",
    "        print(os.path.join(dirname, filename))\n",
    "\n",
    "# Any results you write to the current directory are saved as output."
   ]
  },
  {
   "cell_type": "code",
   "execution_count": 2,
   "metadata": {},
   "outputs": [],
   "source": [
    "# всегда фиксируйте RANDOM_SEED, чтобы ваши эксперименты были воспроизводимы!\n",
    "RANDOM_SEED = 42"
   ]
  },
  {
   "cell_type": "code",
   "execution_count": null,
   "metadata": {},
   "outputs": [],
   "source": [
    "# зафиксируем версию пакетов, чтобы эксперименты были воспроизводимы:\n",
    "!pip freeze > requirements.txt"
   ]
  },
  {
   "cell_type": "markdown",
   "metadata": {},
   "source": [
    "# DATA"
   ]
  },
  {
   "cell_type": "code",
   "execution_count": 112,
   "metadata": {},
   "outputs": [],
   "source": [
    "df_train = pd.read_csv(\n",
    "    'C:/Users/DariaMishina/skillfactory_rds/module_3/main_task.csv')\n",
    "df_test = pd.read_csv(\n",
    "    'C:/Users/DariaMishina/skillfactory_rds/module_3/kaggle_task.csv')\n",
    "sample_submission = pd.read_csv(\n",
    "    'C:/Users/DariaMishina/skillfactory_rds/module_3/sample_submission.csv')"
   ]
  },
  {
   "cell_type": "code",
   "execution_count": 113,
   "metadata": {},
   "outputs": [],
   "source": [
    "# нашла датасет со столицами стран на kaggle, буду использовать для создания нового признака - является ли город столицей\n",
    "capital = pd.read_csv(\n",
    "    'C:/Users/DariaMishina/skillfactory_rds/module_3/concap.csv')"
   ]
  },
  {
   "cell_type": "code",
   "execution_count": 178,
   "metadata": {},
   "outputs": [],
   "source": [
    "# ВАЖНО! дря корректной обработки признаков объединяем трейн и тест в один датасет\n",
    "df_train['sample'] = 1  # помечаем где у нас трейн\n",
    "df_test['sample'] = 0  # помечаем где у нас тест\n",
    "# в тесте у нас нет значения Rating, мы его должны предсказать, по этому пока просто заполняем нулями\n",
    "df_test['Rating'] = 0\n",
    "\n",
    "data = df_test.append(df_train, sort=False).reset_index(\n",
    "    drop=True)  # объединяем"
   ]
  },
  {
   "cell_type": "code",
   "execution_count": 6,
   "metadata": {},
   "outputs": [
    {
     "name": "stdout",
     "output_type": "stream",
     "text": [
      "<class 'pandas.core.frame.DataFrame'>\n",
      "RangeIndex: 50000 entries, 0 to 49999\n",
      "Data columns (total 11 columns):\n",
      " #   Column             Non-Null Count  Dtype  \n",
      "---  ------             --------------  -----  \n",
      " 0   Restaurant_id      50000 non-null  object \n",
      " 1   City               50000 non-null  object \n",
      " 2   Cuisine Style      38410 non-null  object \n",
      " 3   Ranking            50000 non-null  float64\n",
      " 4   Price Range        32639 non-null  object \n",
      " 5   Number of Reviews  46800 non-null  float64\n",
      " 6   Reviews            49998 non-null  object \n",
      " 7   URL_TA             50000 non-null  object \n",
      " 8   ID_TA              50000 non-null  object \n",
      " 9   sample             50000 non-null  int64  \n",
      " 10  Rating             50000 non-null  float64\n",
      "dtypes: float64(3), int64(1), object(7)\n",
      "memory usage: 4.2+ MB\n"
     ]
    }
   ],
   "source": [
    "# посмотрим на типы данных и количество пропусков\n",
    "data.info()"
   ]
  },
  {
   "cell_type": "markdown",
   "metadata": {},
   "source": [
    "Подробнее по признакам:\n",
    "* City: Город \n",
    "* Cuisine Style: Кухня\n",
    "* Ranking: Ранг ресторана относительно других ресторанов в этом городе\n",
    "* Price Range: Цены в ресторане в 3 категориях\n",
    "* Number of Reviews: Количество отзывов\n",
    "* Reviews: 2 последних отзыва и даты этих отзывов\n",
    "* URL_TA: страница ресторана на 'www.tripadvisor.com' \n",
    "* ID_TA: ID ресторана в TripAdvisor\n",
    "* Rating: Рейтинг ресторана"
   ]
  },
  {
   "cell_type": "code",
   "execution_count": 7,
   "metadata": {},
   "outputs": [
    {
     "data": {
      "image/png": "[encoded data removed]",
      "text/plain": [
       "<Figure size 1440x864 with 1 Axes>"
      ]
     },
     "metadata": {
      "needs_background": "light"
     },
     "output_type": "display_data"
    }
   ],
   "source": [
    "fig, ax = plt.subplots(figsize=(20, 12))\n",
    "sns_heatmap = sns.heatmap(\n",
    "    data.isnull(), yticklabels=False, cbar=False, cmap='viridis')"
   ]
  },
  {
   "cell_type": "markdown",
   "metadata": {},
   "source": [
    "**Целевая переменная (Rating)** - без пропусков\n",
    "\n",
    "**Признаки без пропусков:**\n",
    "* Restaurant_id\n",
    "* City\n",
    "* Ranking\n",
    "* Reviews\n",
    "* URL_TA\n",
    "* ID_TA\n",
    "\n",
    "**Числовой формат данных:**\n",
    "* Ranking\n",
    "* Rating - *целевая переменная*\n",
    "* Number of Reviews\n",
    "\n",
    "**Данные в смешанном формате** (похоже на список,но по факту - строка, есть дата и т.д.)\n",
    "* Cuisine Style\n",
    "* Reviews"
   ]
  },
  {
   "cell_type": "code",
   "execution_count": 8,
   "metadata": {},
   "outputs": [
    {
     "data": {
      "text/html": [
       "<div>\n",
       "<style scoped>\n",
       "    .dataframe tbody tr th:only-of-type {\n",
       "        vertical-align: middle;\n",
       "    }\n",
       "\n",
       "    .dataframe tbody tr th {\n",
       "        vertical-align: top;\n",
       "    }\n",
       "\n",
       "    .dataframe thead th {\n",
       "        text-align: right;\n",
       "    }\n",
       "</style>\n",
       "<table border=\"1\" class=\"dataframe\">\n",
       "  <thead>\n",
       "    <tr style=\"text-align: right;\">\n",
       "      <th></th>\n",
       "      <th>Restaurant_id</th>\n",
       "      <th>City</th>\n",
       "      <th>Cuisine Style</th>\n",
       "      <th>Ranking</th>\n",
       "      <th>Price Range</th>\n",
       "      <th>Number of Reviews</th>\n",
       "      <th>Reviews</th>\n",
       "      <th>URL_TA</th>\n",
       "      <th>ID_TA</th>\n",
       "      <th>sample</th>\n",
       "      <th>Rating</th>\n",
       "    </tr>\n",
       "  </thead>\n",
       "  <tbody>\n",
       "    <tr>\n",
       "      <th>28030</th>\n",
       "      <td>id_2070</td>\n",
       "      <td>Milan</td>\n",
       "      <td>['Italian', 'Pizza']</td>\n",
       "      <td>2072.0</td>\n",
       "      <td>$$ - $$$</td>\n",
       "      <td>60.0</td>\n",
       "      <td>[[], []]</td>\n",
       "      <td>/Restaurant_Review-g187849-d10367053-Reviews-W...</td>\n",
       "      <td>d10367053</td>\n",
       "      <td>1</td>\n",
       "      <td>4.0</td>\n",
       "    </tr>\n",
       "    <tr>\n",
       "      <th>43174</th>\n",
       "      <td>id_8031</td>\n",
       "      <td>Madrid</td>\n",
       "      <td>['Cafe', 'Mediterranean', 'Spanish']</td>\n",
       "      <td>8038.0</td>\n",
       "      <td>$</td>\n",
       "      <td>37.0</td>\n",
       "      <td>[['Small Coffee Shop', 'This place is a No-Go'...</td>\n",
       "      <td>/Restaurant_Review-g187514-d4750473-Reviews-Ca...</td>\n",
       "      <td>d4750473</td>\n",
       "      <td>1</td>\n",
       "      <td>2.5</td>\n",
       "    </tr>\n",
       "    <tr>\n",
       "      <th>42269</th>\n",
       "      <td>id_91</td>\n",
       "      <td>Rome</td>\n",
       "      <td>['Greek', 'Vegetarian Friendly', 'Vegan Options']</td>\n",
       "      <td>92.0</td>\n",
       "      <td>$</td>\n",
       "      <td>800.0</td>\n",
       "      <td>[['Outstanding bistrotype grecian', 'Satisfy Y...</td>\n",
       "      <td>/Restaurant_Review-g187791-d5960255-Reviews-Il...</td>\n",
       "      <td>d5960255</td>\n",
       "      <td>1</td>\n",
       "      <td>4.5</td>\n",
       "    </tr>\n",
       "    <tr>\n",
       "      <th>3622</th>\n",
       "      <td>id_3622</td>\n",
       "      <td>Stockholm</td>\n",
       "      <td>['Bar', 'Pub', 'Irish']</td>\n",
       "      <td>916.0</td>\n",
       "      <td>$$ - $$$</td>\n",
       "      <td>37.0</td>\n",
       "      <td>[['Typical Irish pub with good beer selection'...</td>\n",
       "      <td>/Restaurant_Review-g189852-d1422242-Reviews-Li...</td>\n",
       "      <td>d1422242</td>\n",
       "      <td>0</td>\n",
       "      <td>0.0</td>\n",
       "    </tr>\n",
       "    <tr>\n",
       "      <th>17734</th>\n",
       "      <td>id_847</td>\n",
       "      <td>Paris</td>\n",
       "      <td>['French', 'European', 'Vegetarian Friendly']</td>\n",
       "      <td>848.0</td>\n",
       "      <td>$$ - $$$</td>\n",
       "      <td>175.0</td>\n",
       "      <td>[['Modern Restaurant &amp; cuisine', 'A decent mea...</td>\n",
       "      <td>/Restaurant_Review-g187147-d7622753-Reviews-Le...</td>\n",
       "      <td>d7622753</td>\n",
       "      <td>1</td>\n",
       "      <td>4.5</td>\n",
       "    </tr>\n",
       "  </tbody>\n",
       "</table>\n",
       "</div>"
      ],
      "text/plain": [
       "      Restaurant_id       City  \\\n",
       "28030       id_2070      Milan   \n",
       "43174       id_8031     Madrid   \n",
       "42269         id_91       Rome   \n",
       "3622        id_3622  Stockholm   \n",
       "17734        id_847      Paris   \n",
       "\n",
       "                                           Cuisine Style  Ranking Price Range  \\\n",
       "28030                               ['Italian', 'Pizza']   2072.0    $$ - $$$   \n",
       "43174               ['Cafe', 'Mediterranean', 'Spanish']   8038.0           $   \n",
       "42269  ['Greek', 'Vegetarian Friendly', 'Vegan Options']     92.0           $   \n",
       "3622                             ['Bar', 'Pub', 'Irish']    916.0    $$ - $$$   \n",
       "17734      ['French', 'European', 'Vegetarian Friendly']    848.0    $$ - $$$   \n",
       "\n",
       "       Number of Reviews                                            Reviews  \\\n",
       "28030               60.0                                           [[], []]   \n",
       "43174               37.0  [['Small Coffee Shop', 'This place is a No-Go'...   \n",
       "42269              800.0  [['Outstanding bistrotype grecian', 'Satisfy Y...   \n",
       "3622                37.0  [['Typical Irish pub with good beer selection'...   \n",
       "17734              175.0  [['Modern Restaurant & cuisine', 'A decent mea...   \n",
       "\n",
       "                                                  URL_TA      ID_TA  sample  \\\n",
       "28030  /Restaurant_Review-g187849-d10367053-Reviews-W...  d10367053       1   \n",
       "43174  /Restaurant_Review-g187514-d4750473-Reviews-Ca...   d4750473       1   \n",
       "42269  /Restaurant_Review-g187791-d5960255-Reviews-Il...   d5960255       1   \n",
       "3622   /Restaurant_Review-g189852-d1422242-Reviews-Li...   d1422242       0   \n",
       "17734  /Restaurant_Review-g187147-d7622753-Reviews-Le...   d7622753       1   \n",
       "\n",
       "       Rating  \n",
       "28030     4.0  \n",
       "43174     2.5  \n",
       "42269     4.5  \n",
       "3622      0.0  \n",
       "17734     4.5  "
      ]
     },
     "execution_count": 8,
     "metadata": {},
     "output_type": "execute_result"
    }
   ],
   "source": [
    "data.sample(5)"
   ]
  },
  {
   "cell_type": "code",
   "execution_count": 9,
   "metadata": {},
   "outputs": [
    {
     "data": {
      "text/plain": [
       "\"[['Very good reviews!', 'Fine dining in Hakaniemi'], ['12/05/2017', '10/29/2017']]\""
      ]
     },
     "execution_count": 9,
     "metadata": {},
     "output_type": "execute_result"
    }
   ],
   "source": [
    "data.Reviews[1]"
   ]
  },
  {
   "cell_type": "markdown",
   "metadata": {},
   "source": [
    "Как видим, большинство признаков у нас требует очистки и предварительной обработки."
   ]
  },
  {
   "cell_type": "markdown",
   "metadata": {},
   "source": [
    "# Cleaning and Prepping Data"
   ]
  },
  {
   "cell_type": "markdown",
   "metadata": {},
   "source": [
    "## Обработка NAN \n",
    "У наличия пропусков могут быть разные причины, но пропуски нужно либо заполнить, либо исключить из набора полностью. Но с пропусками нужно быть внимательным, **даже отсутствие информации может быть важным признаком!**   \n",
    "По этому перед обработкой NAN лучше вынести информацию о наличии пропуска как отдельный признак "
   ]
  },
  {
   "cell_type": "code",
   "execution_count": 179,
   "metadata": {},
   "outputs": [],
   "source": [
    "# В датасете 3 признака с пропусками, по всем 3м вынесем отсутствие информации в отдельный признак\n",
    "data['Number_of_Reviews_isNAN'] = pd.isna(\n",
    "    data['Number of Reviews']).astype('uint8')\n",
    "data['Cuisine_Style_isNAN'] = pd.isna(data['Cuisine Style']).astype('uint8')\n",
    "data['Price_Range_isNAN'] = pd.isna(data['Price Range']).astype('uint8')"
   ]
  },
  {
   "cell_type": "markdown",
   "metadata": {},
   "source": [
    "**Number of Reviews** - пробовала заполнять пропуски модой, медианой, средним и нулем, лучшее значение МАЕ при заполнении нулем. Предположительно, пропуски - это случаи, когда клиент не написал отзыв, только поставил оценку"
   ]
  },
  {
   "cell_type": "code",
   "execution_count": 180,
   "metadata": {},
   "outputs": [],
   "source": [
    "data['Number of Reviews'].fillna(0, inplace=True)"
   ]
  },
  {
   "cell_type": "markdown",
   "metadata": {},
   "source": [
    "**Price Range** посмотрим на этот признак, какие он принимает значения и сколько пропусков"
   ]
  },
  {
   "cell_type": "code",
   "execution_count": 117,
   "metadata": {},
   "outputs": [
    {
     "data": {
      "text/plain": [
       "$$ - $$$    23041\n",
       "NaN         17361\n",
       "$            7816\n",
       "$$$$         1782\n",
       "Name: Price Range, dtype: int64"
      ]
     },
     "execution_count": 117,
     "metadata": {},
     "output_type": "execute_result"
    }
   ],
   "source": [
    "data['Price Range'].value_counts(dropna = False)"
   ]
  },
  {
   "cell_type": "markdown",
   "metadata": {},
   "source": [
    "Признак ординальный (последовательный), нулем/средним заполнить не получится, заполним самым часто встречающимся значением, то есть средним ценовым диапазоном"
   ]
  },
  {
   "cell_type": "code",
   "execution_count": 181,
   "metadata": {},
   "outputs": [],
   "source": [
    "data['Price Range'] = data['Price Range'].fillna(data['Price Range'].mode()[0])"
   ]
  },
  {
   "cell_type": "markdown",
   "metadata": {},
   "source": [
    "**Cuisine Style** сложный признак, тип данных строка, а по факту это список. Заполним пропуски значением Other, позднее разберем на составляющие"
   ]
  },
  {
   "cell_type": "code",
   "execution_count": 182,
   "metadata": {},
   "outputs": [],
   "source": [
    "data['Cuisine Style'] = data['Cuisine Style'].fillna(\"['Other']\")"
   ]
  },
  {
   "cell_type": "markdown",
   "metadata": {},
   "source": [
    "## Обработка признаков\n",
    "Для начала посмотрим какие признаки у нас могут быть категориальными."
   ]
  },
  {
   "cell_type": "code",
   "execution_count": 15,
   "metadata": {},
   "outputs": [
    {
     "data": {
      "text/plain": [
       "Restaurant_id              13094\n",
       "City                          31\n",
       "Cuisine Style              10732\n",
       "Ranking                    12975\n",
       "Price Range                    3\n",
       "Number of Reviews           1574\n",
       "Reviews                    41858\n",
       "URL_TA                     49963\n",
       "ID_TA                      49963\n",
       "sample                         2\n",
       "Rating                        10\n",
       "Number_of_Reviews_isNAN        2\n",
       "Cuisine_Style_isNAN            2\n",
       "Price_Range_isNAN              2\n",
       "dtype: int64"
      ]
     },
     "execution_count": 15,
     "metadata": {},
     "output_type": "execute_result"
    }
   ],
   "source": [
    "data.nunique(dropna=False)"
   ]
  },
  {
   "cell_type": "markdown",
   "metadata": {},
   "source": [
    "**интересное наблюдение** - Restaurant_id не уникальный признак и видимо не несет никакой ценной информации, удалим его"
   ]
  },
  {
   "cell_type": "code",
   "execution_count": 203,
   "metadata": {},
   "outputs": [],
   "source": [
    "data.drop(['Restaurant_id'], axis=1, inplace=True)"
   ]
  },
  {
   "cell_type": "markdown",
   "metadata": {},
   "source": [
    "### создадим новый признак Столица (бинарный) "
   ]
  },
  {
   "cell_type": "code",
   "execution_count": 17,
   "metadata": {},
   "outputs": [
    {
     "data": {
      "text/plain": [
       "['Hargeisa',\n",
       " 'King Edward Point',\n",
       " 'Port-aux-Français',\n",
       " 'Jerusalem',\n",
       " 'Mariehamn',\n",
       " 'Yaren',\n",
       " 'Marigot',\n",
       " 'Atafu',\n",
       " 'El-Aaiún',\n",
       " 'Kabul',\n",
       " 'Tirana',\n",
       " 'Algiers',\n",
       " 'Pago Pago',\n",
       " 'Andorra la Vella',\n",
       " 'Luanda',\n",
       " 'The Valley',\n",
       " \"Saint John's\",\n",
       " 'Buenos Aires',\n",
       " 'Yerevan',\n",
       " 'Oranjestad',\n",
       " 'Canberra',\n",
       " 'Vienna',\n",
       " 'Baku',\n",
       " 'Nassau',\n",
       " 'Manama',\n",
       " 'Dhaka',\n",
       " 'Bridgetown',\n",
       " 'Minsk',\n",
       " 'Brussels',\n",
       " 'Belmopan',\n",
       " 'Porto-Novo',\n",
       " 'Hamilton',\n",
       " 'Thimphu',\n",
       " 'La Paz',\n",
       " 'Sarajevo',\n",
       " 'Gaborone',\n",
       " 'Brasilia',\n",
       " 'Road Town',\n",
       " 'Bandar Seri Begawan',\n",
       " 'Sofia',\n",
       " 'Ouagadougou',\n",
       " 'Rangoon',\n",
       " 'Bujumbura',\n",
       " 'Phnom Penh',\n",
       " 'Yaounde',\n",
       " 'Ottawa',\n",
       " 'Praia',\n",
       " 'George Town',\n",
       " 'Bangui',\n",
       " \"N'Djamena\",\n",
       " 'Santiago',\n",
       " 'Beijing',\n",
       " 'The Settlement',\n",
       " 'West Island',\n",
       " 'Bogota',\n",
       " 'Moroni',\n",
       " 'Kinshasa',\n",
       " 'Brazzaville',\n",
       " 'Avarua',\n",
       " 'San Jose',\n",
       " 'Yamoussoukro',\n",
       " 'Zagreb',\n",
       " 'Havana',\n",
       " 'Willemstad',\n",
       " 'Nicosia',\n",
       " 'Prague',\n",
       " 'Copenhagen',\n",
       " 'Djibouti',\n",
       " 'Roseau',\n",
       " 'Santo Domingo',\n",
       " 'Quito',\n",
       " 'Cairo',\n",
       " 'San Salvador',\n",
       " 'Malabo',\n",
       " 'Asmara',\n",
       " 'Tallinn',\n",
       " 'Addis Ababa',\n",
       " 'Stanley',\n",
       " 'Torshavn',\n",
       " 'Suva',\n",
       " 'Helsinki',\n",
       " 'Paris',\n",
       " 'Papeete',\n",
       " 'Libreville',\n",
       " 'Banjul',\n",
       " 'Tbilisi',\n",
       " 'Berlin',\n",
       " 'Accra',\n",
       " 'Gibraltar',\n",
       " 'Athens',\n",
       " 'Nuuk',\n",
       " \"Saint George's\",\n",
       " 'Hagatna',\n",
       " 'Guatemala City',\n",
       " 'Saint Peter Port',\n",
       " 'Conakry',\n",
       " 'Bissau',\n",
       " 'Georgetown',\n",
       " 'Port-au-Prince',\n",
       " 'Vatican City',\n",
       " 'Tegucigalpa',\n",
       " 'Budapest',\n",
       " 'Reykjavik',\n",
       " 'New Delhi',\n",
       " 'Jakarta',\n",
       " 'Tehran',\n",
       " 'Baghdad',\n",
       " 'Dublin',\n",
       " 'Douglas',\n",
       " 'Jerusalem',\n",
       " 'Rome',\n",
       " 'Kingston',\n",
       " 'Tokyo',\n",
       " 'Saint Helier',\n",
       " 'Amman',\n",
       " 'Astana',\n",
       " 'Nairobi',\n",
       " 'Tarawa',\n",
       " 'Pyongyang',\n",
       " 'Seoul',\n",
       " 'Pristina',\n",
       " 'Kuwait City',\n",
       " 'Bishkek',\n",
       " 'Vientiane',\n",
       " 'Riga',\n",
       " 'Beirut',\n",
       " 'Maseru',\n",
       " 'Monrovia',\n",
       " 'Tripoli',\n",
       " 'Vaduz',\n",
       " 'Vilnius',\n",
       " 'Luxembourg',\n",
       " 'Skopje',\n",
       " 'Antananarivo',\n",
       " 'Lilongwe',\n",
       " 'Kuala Lumpur',\n",
       " 'Male',\n",
       " 'Bamako',\n",
       " 'Valletta',\n",
       " 'Majuro',\n",
       " 'Nouakchott',\n",
       " 'Port Louis',\n",
       " 'Mexico City',\n",
       " 'Palikir',\n",
       " 'Chisinau',\n",
       " 'Monaco',\n",
       " 'Ulaanbaatar',\n",
       " 'Podgorica',\n",
       " 'Plymouth',\n",
       " 'Rabat',\n",
       " 'Maputo',\n",
       " 'Windhoek',\n",
       " 'Kathmandu',\n",
       " 'Amsterdam',\n",
       " 'Noumea',\n",
       " 'Wellington',\n",
       " 'Managua',\n",
       " 'Niamey',\n",
       " 'Abuja',\n",
       " 'Alofi',\n",
       " 'Kingston',\n",
       " 'Saipan',\n",
       " 'Oslo',\n",
       " 'Muscat',\n",
       " 'Islamabad',\n",
       " 'Melekeok',\n",
       " 'Panama City',\n",
       " 'Port Moresby',\n",
       " 'Asuncion',\n",
       " 'Lima',\n",
       " 'Manila',\n",
       " 'Adamstown',\n",
       " 'Warsaw',\n",
       " 'Lisbon',\n",
       " 'San Juan',\n",
       " 'Doha',\n",
       " 'Bucharest',\n",
       " 'Moscow',\n",
       " 'Kigali',\n",
       " 'Gustavia',\n",
       " 'Jamestown',\n",
       " 'Basseterre',\n",
       " 'Castries',\n",
       " 'Saint-Pierre',\n",
       " 'Kingstown',\n",
       " 'Apia',\n",
       " 'San Marino',\n",
       " 'Sao Tome',\n",
       " 'Riyadh',\n",
       " 'Dakar',\n",
       " 'Belgrade',\n",
       " 'Victoria',\n",
       " 'Freetown',\n",
       " 'Singapore',\n",
       " 'Philipsburg',\n",
       " 'Bratislava',\n",
       " 'Ljubljana',\n",
       " 'Honiara',\n",
       " 'Mogadishu',\n",
       " 'Pretoria',\n",
       " 'Juba',\n",
       " 'Madrid',\n",
       " 'Colombo',\n",
       " 'Khartoum',\n",
       " 'Paramaribo',\n",
       " 'Longyearbyen',\n",
       " 'Mbabane',\n",
       " 'Stockholm',\n",
       " 'Bern',\n",
       " 'Damascus',\n",
       " 'Taipei',\n",
       " 'Dushanbe',\n",
       " 'Dar es Salaam',\n",
       " 'Bangkok',\n",
       " 'Dili',\n",
       " 'Lome',\n",
       " \"Nuku'alofa\",\n",
       " 'Port of Spain',\n",
       " 'Tunis',\n",
       " 'Ankara',\n",
       " 'Ashgabat',\n",
       " 'Grand Turk',\n",
       " 'Funafuti',\n",
       " 'Kampala',\n",
       " 'Kyiv',\n",
       " 'Abu Dhabi',\n",
       " 'London',\n",
       " 'Washington',\n",
       " 'Montevideo',\n",
       " 'Tashkent',\n",
       " 'Port-Vila',\n",
       " 'Caracas',\n",
       " 'Hanoi',\n",
       " 'Charlotte Amalie',\n",
       " 'Mata-Utu',\n",
       " 'Sanaa',\n",
       " 'Lusaka',\n",
       " 'Harare',\n",
       " 'Washington',\n",
       " nan,\n",
       " 'North Nicosia',\n",
       " nan,\n",
       " nan,\n",
       " 'Diego Garcia',\n",
       " nan]"
      ]
     },
     "execution_count": 17,
     "metadata": {},
     "output_type": "execute_result"
    }
   ],
   "source": [
    "# сделаем из колонки в найденном на kaggle датафрейме (сериз) - список, так удобнее искать\n",
    "caplist = capital.CapitalName.to_list()\n",
    "caplist"
   ]
  },
  {
   "cell_type": "code",
   "execution_count": 183,
   "metadata": {},
   "outputs": [],
   "source": [
    "data['is_capital'] = data.City.apply(lambda x: 1 if x in caplist else 0)"
   ]
  },
  {
   "cell_type": "markdown",
   "metadata": {},
   "source": [
    "### добавим новый признак - кол-во ресторанов в городе"
   ]
  },
  {
   "cell_type": "markdown",
   "metadata": {},
   "source": [
    "посмотрим, сколько ресторанов в каждом из 31 городе"
   ]
  },
  {
   "cell_type": "code",
   "execution_count": 19,
   "metadata": {},
   "outputs": [
    {
     "data": {
      "text/plain": [
       "London        7193\n",
       "Paris         6108\n",
       "Madrid        3813\n",
       "Barcelona     3395\n",
       "Berlin        2705\n",
       "Milan         2694\n",
       "Rome          2589\n",
       "Prague        1816\n",
       "Lisbon        1647\n",
       "Vienna        1443\n",
       "Amsterdam     1372\n",
       "Brussels      1314\n",
       "Hamburg       1186\n",
       "Munich        1145\n",
       "Lyon          1126\n",
       "Stockholm     1033\n",
       "Budapest      1021\n",
       "Warsaw         925\n",
       "Dublin         836\n",
       "Copenhagen     819\n",
       "Athens         776\n",
       "Edinburgh      745\n",
       "Zurich         685\n",
       "Oporto         642\n",
       "Geneva         590\n",
       "Krakow         554\n",
       "Oslo           488\n",
       "Helsinki       475\n",
       "Bratislava     380\n",
       "Luxembourg     263\n",
       "Ljubljana      222\n",
       "Name: City, dtype: int64"
      ]
     },
     "execution_count": 19,
     "metadata": {},
     "output_type": "execute_result"
    }
   ],
   "source": [
    "data['City'].value_counts()"
   ]
  },
  {
   "cell_type": "code",
   "execution_count": 184,
   "metadata": {},
   "outputs": [],
   "source": [
    "rest_in_city = data['City'].value_counts()\n",
    "data['Rest_in_city'] = data['City'].apply(lambda x: rest_in_city[x])"
   ]
  },
  {
   "cell_type": "markdown",
   "metadata": {},
   "source": [
    "### добавим новый признак - Население в городе\n",
    "городов всего 31 штука, на kaggle не нашла датасета с населением, пришлось воспользоваться википедией и гуглом"
   ]
  },
  {
   "cell_type": "code",
   "execution_count": 83,
   "metadata": {},
   "outputs": [],
   "source": [
    "population = {\n",
    "    'London': 8173900,\n",
    "    'Paris': 2240621,\n",
    "    'Madrid': 3155360,\n",
    "    'Barcelona': 1593075,\n",
    "    'Berlin': 3326002,\n",
    "    'Milan': 1331586,\n",
    "    'Rome': 2870493,\n",
    "    'Prague': 1272690,\n",
    "    'Lisbon': 547733,\n",
    "    'Vienna': 1765649,\n",
    "    'Amsterdam': 825080,\n",
    "    'Brussels': 144784,\n",
    "    'Hamburg': 1718187,\n",
    "    'Munich': 1364920,\n",
    "    'Lyon': 496343,\n",
    "    'Stockholm': 1981263,\n",
    "    'Budapest': 1744665,\n",
    "    'Warsaw': 1720398,\n",
    "    'Dublin': 506211,\n",
    "    'Copenhagen': 1246611,\n",
    "    'Athens': 3168846,\n",
    "    'Edinburgh': 476100,\n",
    "    'Zurich': 402275,\n",
    "    'Oporto': 221800,\n",
    "    'Geneva': 196150,\n",
    "    'Krakow': 756183,\n",
    "    'Oslo': 673469,\n",
    "    'Helsinki': 574579,\n",
    "    'Bratislava': 413192,\n",
    "    'Luxembourg': 576249,\n",
    "    'Ljubljana': 277554\n",
    "}"
   ]
  },
  {
   "cell_type": "code",
   "execution_count": 185,
   "metadata": {},
   "outputs": [],
   "source": [
    "data['Population'] = data['City'].map(population)"
   ]
  },
  {
   "cell_type": "markdown",
   "metadata": {},
   "source": [
    "### добавим новый признак - рестораннообеспеченность или кол-во ресторанов на человека"
   ]
  },
  {
   "cell_type": "code",
   "execution_count": 186,
   "metadata": {},
   "outputs": [],
   "source": [
    "data['Rest_per_man'] = data['Population'] / data['Rest_in_city']"
   ]
  },
  {
   "cell_type": "markdown",
   "metadata": {},
   "source": [
    "### добавим новый признак - Country\n",
    "городов немного, создала словарь руками, сокращенные названия стран добавила отсюда\n",
    "https://www.acex.net/ru/useful_information/ISO_country_codes.php"
   ]
  },
  {
   "cell_type": "code",
   "execution_count": 187,
   "metadata": {},
   "outputs": [],
   "source": [
    "country = {\n",
    "    'London': 'GB',\n",
    "    'Paris': 'FR',\n",
    "    'Madrid': 'ES',\n",
    "    'Barcelona': 'ES',\n",
    "    'Berlin': 'DE',\n",
    "    'Milan': 'IT',\n",
    "    'Rome': 'IT',\n",
    "    'Prague': 'CZ',\n",
    "    'Lisbon': 'PT',\n",
    "    'Vienna': 'AT',\n",
    "    'Amsterdam': 'NL',\n",
    "    'Brussels': 'BE',\n",
    "    'Hamburg': 'DE',\n",
    "    'Munich': 'DE',\n",
    "    'Lyon': 'FR',\n",
    "    'Stockholm': 'SE',\n",
    "    'Budapest': 'HU',\n",
    "    'Warsaw': 'PL',\n",
    "    'Dublin': 'IE',\n",
    "    'Copenhagen': 'DK',\n",
    "    'Athens': 'GR',\n",
    "    'Edinburgh': 'GB',\n",
    "    'Zurich': 'CH',\n",
    "    'Oporto': 'PT',\n",
    "    'Geneva': 'CH',\n",
    "    'Krakow': 'PL',\n",
    "    'Oslo': 'NO',\n",
    "    'Helsinki': 'FI',\n",
    "    'Bratislava': 'SK',\n",
    "    'Luxembourg': 'LU',\n",
    "    'Ljubljana': 'SI'\n",
    "}\n",
    "\n",
    "data['Country'] = data['City'].apply(lambda x: country[x])"
   ]
  },
  {
   "cell_type": "markdown",
   "metadata": {},
   "source": [
    "посмотрим, сколько получилось стран"
   ]
  },
  {
   "cell_type": "code",
   "execution_count": 155,
   "metadata": {},
   "outputs": [
    {
     "data": {
      "text/plain": [
       "22"
      ]
     },
     "execution_count": 155,
     "metadata": {},
     "output_type": "execute_result"
    }
   ],
   "source": [
    "data['Country'].nunique()"
   ]
  },
  {
   "cell_type": "markdown",
   "metadata": {},
   "source": [
    "и сколько ресторанов в каждой стране"
   ]
  },
  {
   "cell_type": "code",
   "execution_count": 26,
   "metadata": {},
   "outputs": [
    {
     "data": {
      "text/plain": [
       "GB    7938\n",
       "FR    7234\n",
       "ES    7208\n",
       "IT    5283\n",
       "DE    5036\n",
       "PT    2289\n",
       "CZ    1816\n",
       "PL    1479\n",
       "AT    1443\n",
       "NL    1372\n",
       "BE    1314\n",
       "CH    1275\n",
       "SE    1033\n",
       "HU    1021\n",
       "IE     836\n",
       "DK     819\n",
       "GR     776\n",
       "NO     488\n",
       "FI     475\n",
       "SK     380\n",
       "LU     263\n",
       "SI     222\n",
       "Name: Country, dtype: int64"
      ]
     },
     "execution_count": 26,
     "metadata": {},
     "output_type": "execute_result"
    }
   ],
   "source": [
    "data['Country'].value_counts()"
   ]
  },
  {
   "cell_type": "markdown",
   "metadata": {},
   "source": [
    "### добавим новый признак - кол-во ресторанов в стране"
   ]
  },
  {
   "cell_type": "code",
   "execution_count": 188,
   "metadata": {},
   "outputs": [],
   "source": [
    "rest_in_country = data['Country'].value_counts()\n",
    "data['Rest_in_country'] = data['Country'].apply(lambda x: rest_in_country[x])"
   ]
  },
  {
   "cell_type": "markdown",
   "metadata": {},
   "source": [
    "### добавим новый признак, точней 31 новый признак по городам"
   ]
  },
  {
   "cell_type": "code",
   "execution_count": 189,
   "metadata": {},
   "outputs": [],
   "source": [
    "# для One-Hot Encoding в pandas есть готовая функция - get_dummies. Особенно радует параметр dummy_na\n",
    "# Add a column to indicate NaNs, if False NaNs are ignored.\n",
    "data = pd.get_dummies(data, columns=['City', ], dummy_na=True)"
   ]
  },
  {
   "cell_type": "markdown",
   "metadata": {},
   "source": [
    "### добавим новый признак, точней 22 новых признака по странам"
   ]
  },
  {
   "cell_type": "code",
   "execution_count": 190,
   "metadata": {},
   "outputs": [],
   "source": [
    "data = pd.get_dummies(data, columns=[ 'Country',], dummy_na=True)"
   ]
  },
  {
   "cell_type": "markdown",
   "metadata": {},
   "source": [
    "__Возьмем следующий признак \"Price Range\"__"
   ]
  },
  {
   "cell_type": "code",
   "execution_count": 28,
   "metadata": {},
   "outputs": [
    {
     "data": {
      "text/plain": [
       "$$ - $$$    40402\n",
       "$            7816\n",
       "$$$$         1782\n",
       "Name: Price Range, dtype: int64"
      ]
     },
     "execution_count": 28,
     "metadata": {},
     "output_type": "execute_result"
    }
   ],
   "source": [
    "data['Price Range'].value_counts()"
   ]
  },
  {
   "cell_type": "markdown",
   "metadata": {},
   "source": [
    "### создадим новый признак (бинарный) - цены средние или нет"
   ]
  },
  {
   "cell_type": "markdown",
   "metadata": {},
   "source": [
    "добавление признакак ухудшило МАЕ, закомментируем его"
   ]
  },
  {
   "cell_type": "code",
   "execution_count": 90,
   "metadata": {},
   "outputs": [],
   "source": [
    "#data['Price Category'] = data['Price Range'].apply(lambda x: x!= '$$ - $$$') \n",
    "#data['Price Category'] = data['Price Category'].astype(int)"
   ]
  },
  {
   "cell_type": "markdown",
   "metadata": {},
   "source": [
    "### создадим новый признак, точней 3 признака для каждого диапазона цен"
   ]
  },
  {
   "cell_type": "markdown",
   "metadata": {},
   "source": [
    "**1й вариант - One hot encoding** МАЕ ухудшился, закомментируем этот вариант"
   ]
  },
  {
   "cell_type": "code",
   "execution_count": 176,
   "metadata": {},
   "outputs": [],
   "source": [
    "# dummy_na=True убрала, так как уже все пропуски ранее заполнила\n",
    "#data = pd.get_dummies(data, columns=['Price Range', ])"
   ]
  },
  {
   "cell_type": "markdown",
   "metadata": {},
   "source": [
    "**2й вариант - LabelEncoding**\n",
    "МАЕ для второго вариант лучше"
   ]
  },
  {
   "cell_type": "code",
   "execution_count": 30,
   "metadata": {},
   "outputs": [],
   "source": [
    "from sklearn.preprocessing import LabelEncoder"
   ]
  },
  {
   "cell_type": "code",
   "execution_count": 191,
   "metadata": {},
   "outputs": [],
   "source": [
    "# creating instance of labelencoder\n",
    "labelencoder = LabelEncoder()\n",
    "# Assigning numerical values and storing in another column\n",
    "data['Price Range_Cat'] = labelencoder.fit_transform(data['Price Range'])"
   ]
  },
  {
   "cell_type": "markdown",
   "metadata": {},
   "source": [
    "__рассмотрим следующий признак Reviews__\n",
    "внутри этот признак содержит дату отзывов, попробуем ее достать"
   ]
  },
  {
   "cell_type": "markdown",
   "metadata": {},
   "source": [
    "### создадим новый признак - кол-во дней между отзывами"
   ]
  },
  {
   "cell_type": "code",
   "execution_count": 192,
   "metadata": {},
   "outputs": [],
   "source": [
    "# заполняем пропуски\n",
    "data['Reviews'] = data['Reviews'].fillna(\"['no_Reviews']\")\n",
    "# создаем новую колонку и туда кладем только данные, ктр содержат дату\n",
    "data['date_of_Review'] = data['Reviews'].str.findall('\\d+/\\d+/\\d+')\n",
    "# создаем новую колонку, ктр содержит разницу между значениями колонки date_of_Review и превращаем ее в дни\n",
    "data['day_between_Reviews'] = data.apply(lambda x: pd.to_datetime(\n",
    "    x['date_of_Review']).max() - pd.to_datetime(x['date_of_Review']).min(), axis=1).dt.days"
   ]
  },
  {
   "cell_type": "code",
   "execution_count": 33,
   "metadata": {},
   "outputs": [
    {
     "name": "stdout",
     "output_type": "stream",
     "text": [
      "<class 'pandas.core.frame.DataFrame'>\n",
      "RangeIndex: 50000 entries, 0 to 49999\n",
      "Data columns (total 53 columns):\n",
      " #   Column                   Non-Null Count  Dtype  \n",
      "---  ------                   --------------  -----  \n",
      " 0   Cuisine Style            50000 non-null  object \n",
      " 1   Ranking                  50000 non-null  float64\n",
      " 2   Price Range              50000 non-null  object \n",
      " 3   Number of Reviews        50000 non-null  float64\n",
      " 4   Reviews                  50000 non-null  object \n",
      " 5   URL_TA                   50000 non-null  object \n",
      " 6   ID_TA                    50000 non-null  object \n",
      " 7   sample                   50000 non-null  int64  \n",
      " 8   Rating                   50000 non-null  float64\n",
      " 9   Number_of_Reviews_isNAN  50000 non-null  uint8  \n",
      " 10  Cuisine_Style_isNAN      50000 non-null  uint8  \n",
      " 11  Price_Range_isNAN        50000 non-null  uint8  \n",
      " 12  is_capital               50000 non-null  int64  \n",
      " 13  Rest_in_city             50000 non-null  int64  \n",
      " 14  Population               50000 non-null  int64  \n",
      " 15  Rest_per_man             50000 non-null  float64\n",
      " 16  Country                  50000 non-null  object \n",
      " 17  City_Amsterdam           50000 non-null  uint8  \n",
      " 18  City_Athens              50000 non-null  uint8  \n",
      " 19  City_Barcelona           50000 non-null  uint8  \n",
      " 20  City_Berlin              50000 non-null  uint8  \n",
      " 21  City_Bratislava          50000 non-null  uint8  \n",
      " 22  City_Brussels            50000 non-null  uint8  \n",
      " 23  City_Budapest            50000 non-null  uint8  \n",
      " 24  City_Copenhagen          50000 non-null  uint8  \n",
      " 25  City_Dublin              50000 non-null  uint8  \n",
      " 26  City_Edinburgh           50000 non-null  uint8  \n",
      " 27  City_Geneva              50000 non-null  uint8  \n",
      " 28  City_Hamburg             50000 non-null  uint8  \n",
      " 29  City_Helsinki            50000 non-null  uint8  \n",
      " 30  City_Krakow              50000 non-null  uint8  \n",
      " 31  City_Lisbon              50000 non-null  uint8  \n",
      " 32  City_Ljubljana           50000 non-null  uint8  \n",
      " 33  City_London              50000 non-null  uint8  \n",
      " 34  City_Luxembourg          50000 non-null  uint8  \n",
      " 35  City_Lyon                50000 non-null  uint8  \n",
      " 36  City_Madrid              50000 non-null  uint8  \n",
      " 37  City_Milan               50000 non-null  uint8  \n",
      " 38  City_Munich              50000 non-null  uint8  \n",
      " 39  City_Oporto              50000 non-null  uint8  \n",
      " 40  City_Oslo                50000 non-null  uint8  \n",
      " 41  City_Paris               50000 non-null  uint8  \n",
      " 42  City_Prague              50000 non-null  uint8  \n",
      " 43  City_Rome                50000 non-null  uint8  \n",
      " 44  City_Stockholm           50000 non-null  uint8  \n",
      " 45  City_Vienna              50000 non-null  uint8  \n",
      " 46  City_Warsaw              50000 non-null  uint8  \n",
      " 47  City_Zurich              50000 non-null  uint8  \n",
      " 48  City_nan                 50000 non-null  uint8  \n",
      " 49  Price Category           50000 non-null  int32  \n",
      " 50  Price Range_Cat          50000 non-null  int32  \n",
      " 51  date_of_Review           50000 non-null  object \n",
      " 52  day_between_Reviews      41886 non-null  float64\n",
      "dtypes: float64(5), int32(2), int64(4), object(7), uint8(35)\n",
      "memory usage: 8.2+ MB\n"
     ]
    }
   ],
   "source": [
    "#проверяем, что получилось\n",
    "data.info()"
   ]
  },
  {
   "cell_type": "markdown",
   "metadata": {},
   "source": [
    "не все отзывы содержат дату, поэтому незаполненные значения заполним нулем"
   ]
  },
  {
   "cell_type": "code",
   "execution_count": 193,
   "metadata": {},
   "outputs": [],
   "source": [
    "data['day_between_Reviews'].fillna(0, inplace=True)"
   ]
  },
  {
   "cell_type": "markdown",
   "metadata": {},
   "source": [
    "### Создадим новый признак - разница между отзывами больше/меньше год"
   ]
  },
  {
   "cell_type": "markdown",
   "metadata": {},
   "source": [
    "добавление признакак ухудшило МАЕ, закомментируем его"
   ]
  },
  {
   "cell_type": "code",
   "execution_count": 94,
   "metadata": {},
   "outputs": [],
   "source": [
    "#сравниваем сроки между отзывами с годом\n",
    "#data['Old']=data['day_between_Reviews'].apply(lambda x: float(x)>float(365)) \n",
    "#конвертируем буллево значение в 0/1\n",
    "#data['Old'] = data['Old'].astype(int)"
   ]
  },
  {
   "cell_type": "markdown",
   "metadata": {},
   "source": [
    "### создадим новый признак - кол-во прошедших дней с последнего отзыва"
   ]
  },
  {
   "cell_type": "code",
   "execution_count": 45,
   "metadata": {
    "scrolled": true
   },
   "outputs": [],
   "source": [
    "from datetime import datetime"
   ]
  },
  {
   "cell_type": "code",
   "execution_count": 194,
   "metadata": {
    "scrolled": false
   },
   "outputs": [
    {
     "name": "stderr",
     "output_type": "stream",
     "text": [
      "C:\\ProgramData\\Anaconda3\\lib\\site-packages\\ipykernel_launcher.py:1: FutureWarning: The pandas.datetime class is deprecated and will be removed from pandas in a future version. Import from datetime module instead.\n",
      "  \"\"\"Entry point for launching an IPython kernel.\n"
     ]
    }
   ],
   "source": [
    "data['day_from_last_review'] = data.apply(lambda x: pd.datetime.now(\n",
    ") - pd.to_datetime(x['date_of_Review']).max(), axis=1).dt.days"
   ]
  },
  {
   "cell_type": "markdown",
   "metadata": {},
   "source": [
    "проверяем, что получилось"
   ]
  },
  {
   "cell_type": "code",
   "execution_count": 195,
   "metadata": {
    "scrolled": true
   },
   "outputs": [
    {
     "name": "stdout",
     "output_type": "stream",
     "text": [
      "<class 'pandas.core.frame.DataFrame'>\n",
      "RangeIndex: 50000 entries, 0 to 49999\n",
      "Data columns (total 77 columns):\n",
      " #   Column                   Non-Null Count  Dtype  \n",
      "---  ------                   --------------  -----  \n",
      " 0   Restaurant_id            50000 non-null  object \n",
      " 1   Cuisine Style            50000 non-null  object \n",
      " 2   Ranking                  50000 non-null  float64\n",
      " 3   Price Range              50000 non-null  object \n",
      " 4   Number of Reviews        50000 non-null  float64\n",
      " 5   Reviews                  50000 non-null  object \n",
      " 6   URL_TA                   50000 non-null  object \n",
      " 7   ID_TA                    50000 non-null  object \n",
      " 8   sample                   50000 non-null  int64  \n",
      " 9   Rating                   50000 non-null  float64\n",
      " 10  Number_of_Reviews_isNAN  50000 non-null  uint8  \n",
      " 11  Cuisine_Style_isNAN      50000 non-null  uint8  \n",
      " 12  Price_Range_isNAN        50000 non-null  uint8  \n",
      " 13  is_capital               50000 non-null  int64  \n",
      " 14  Rest_in_city             50000 non-null  int64  \n",
      " 15  Population               50000 non-null  int64  \n",
      " 16  Rest_per_man             50000 non-null  float64\n",
      " 17  Rest_in_country          50000 non-null  int64  \n",
      " 18  City_Amsterdam           50000 non-null  uint8  \n",
      " 19  City_Athens              50000 non-null  uint8  \n",
      " 20  City_Barcelona           50000 non-null  uint8  \n",
      " 21  City_Berlin              50000 non-null  uint8  \n",
      " 22  City_Bratislava          50000 non-null  uint8  \n",
      " 23  City_Brussels            50000 non-null  uint8  \n",
      " 24  City_Budapest            50000 non-null  uint8  \n",
      " 25  City_Copenhagen          50000 non-null  uint8  \n",
      " 26  City_Dublin              50000 non-null  uint8  \n",
      " 27  City_Edinburgh           50000 non-null  uint8  \n",
      " 28  City_Geneva              50000 non-null  uint8  \n",
      " 29  City_Hamburg             50000 non-null  uint8  \n",
      " 30  City_Helsinki            50000 non-null  uint8  \n",
      " 31  City_Krakow              50000 non-null  uint8  \n",
      " 32  City_Lisbon              50000 non-null  uint8  \n",
      " 33  City_Ljubljana           50000 non-null  uint8  \n",
      " 34  City_London              50000 non-null  uint8  \n",
      " 35  City_Luxembourg          50000 non-null  uint8  \n",
      " 36  City_Lyon                50000 non-null  uint8  \n",
      " 37  City_Madrid              50000 non-null  uint8  \n",
      " 38  City_Milan               50000 non-null  uint8  \n",
      " 39  City_Munich              50000 non-null  uint8  \n",
      " 40  City_Oporto              50000 non-null  uint8  \n",
      " 41  City_Oslo                50000 non-null  uint8  \n",
      " 42  City_Paris               50000 non-null  uint8  \n",
      " 43  City_Prague              50000 non-null  uint8  \n",
      " 44  City_Rome                50000 non-null  uint8  \n",
      " 45  City_Stockholm           50000 non-null  uint8  \n",
      " 46  City_Vienna              50000 non-null  uint8  \n",
      " 47  City_Warsaw              50000 non-null  uint8  \n",
      " 48  City_Zurich              50000 non-null  uint8  \n",
      " 49  City_nan                 50000 non-null  uint8  \n",
      " 50  Country_AT               50000 non-null  uint8  \n",
      " 51  Country_BE               50000 non-null  uint8  \n",
      " 52  Country_CH               50000 non-null  uint8  \n",
      " 53  Country_CZ               50000 non-null  uint8  \n",
      " 54  Country_DE               50000 non-null  uint8  \n",
      " 55  Country_DK               50000 non-null  uint8  \n",
      " 56  Country_ES               50000 non-null  uint8  \n",
      " 57  Country_FI               50000 non-null  uint8  \n",
      " 58  Country_FR               50000 non-null  uint8  \n",
      " 59  Country_GB               50000 non-null  uint8  \n",
      " 60  Country_GR               50000 non-null  uint8  \n",
      " 61  Country_HU               50000 non-null  uint8  \n",
      " 62  Country_IE               50000 non-null  uint8  \n",
      " 63  Country_IT               50000 non-null  uint8  \n",
      " 64  Country_LU               50000 non-null  uint8  \n",
      " 65  Country_NL               50000 non-null  uint8  \n",
      " 66  Country_NO               50000 non-null  uint8  \n",
      " 67  Country_PL               50000 non-null  uint8  \n",
      " 68  Country_PT               50000 non-null  uint8  \n",
      " 69  Country_SE               50000 non-null  uint8  \n",
      " 70  Country_SI               50000 non-null  uint8  \n",
      " 71  Country_SK               50000 non-null  uint8  \n",
      " 72  Country_nan              50000 non-null  uint8  \n",
      " 73  Price Range_Cat          50000 non-null  int32  \n",
      " 74  date_of_Review           50000 non-null  object \n",
      " 75  day_between_Reviews      50000 non-null  float64\n",
      " 76  day_from_last_review     41886 non-null  float64\n",
      "dtypes: float64(6), int32(1), int64(5), object(7), uint8(58)\n",
      "memory usage: 9.8+ MB\n"
     ]
    }
   ],
   "source": [
    "data.info()"
   ]
  },
  {
   "cell_type": "markdown",
   "metadata": {},
   "source": [
    "и опять есть пропуски, заполним их нулем"
   ]
  },
  {
   "cell_type": "code",
   "execution_count": 196,
   "metadata": {},
   "outputs": [],
   "source": [
    "data['day_from_last_review'].fillna(0, inplace=True)"
   ]
  },
  {
   "cell_type": "markdown",
   "metadata": {},
   "source": [
    "__рассмотрим следующий признак Cuisine Style__"
   ]
  },
  {
   "cell_type": "markdown",
   "metadata": {},
   "source": [
    "пропуски на other мы уже заменили, посмотрим, сколько всего разных кухонь, много ли уникальных значений"
   ]
  },
  {
   "cell_type": "code",
   "execution_count": 197,
   "metadata": {},
   "outputs": [],
   "source": [
    "# копируем датафрейм\n",
    "data_copy = data.copy()\n",
    "# создаем новую колонку в копии датафрейма - в каждой строке новой колонки список из рассплитованных  значений\n",
    "data_copy['Cuisine'] = data['Cuisine Style'].str.findall(r\"'(\\b.*?\\b)'\")\n",
    "# 'раздвигаем' исходный датасет, чтобы внутри признака было только одно значение вида кухни, а не список\n",
    "data_copy = data_copy.explode('Cuisine')"
   ]
  },
  {
   "cell_type": "code",
   "execution_count": 198,
   "metadata": {
    "scrolled": true
   },
   "outputs": [
    {
     "data": {
      "text/plain": [
       "Vegetarian Friendly    14021\n",
       "European               12561\n",
       "Other                  11590\n",
       "Mediterranean           7820\n",
       "Italian                 7433\n",
       "                       ...  \n",
       "Fujian                     2\n",
       "Burmese                    1\n",
       "Xinjiang                   1\n",
       "Latvian                    1\n",
       "Salvadoran                 1\n",
       "Name: Cuisine, Length: 126, dtype: int64"
      ]
     },
     "execution_count": 198,
     "metadata": {},
     "output_type": "execute_result"
    }
   ],
   "source": [
    "data_copy['Cuisine'].value_counts()"
   ]
  },
  {
   "cell_type": "markdown",
   "metadata": {},
   "source": [
    "уникальных значений (кухонь, ктр встречаются только в одном ресторане) не так уж и много, всего 4. Поэтому не будем выносить это в отдельный признак"
   ]
  },
  {
   "cell_type": "markdown",
   "metadata": {},
   "source": [
    "### создадим новый признак - кол-во кухонь в одном ресторане"
   ]
  },
  {
   "cell_type": "code",
   "execution_count": 199,
   "metadata": {},
   "outputs": [],
   "source": [
    "data['Number_of_cuisines'] = data['Cuisine Style'].apply(\n",
    "    lambda x: len(x.split(',')))"
   ]
  },
  {
   "cell_type": "markdown",
   "metadata": {},
   "source": [
    "посчитаем среднее значение для кол-ва кухонь в одном ресторане"
   ]
  },
  {
   "cell_type": "code",
   "execution_count": 99,
   "metadata": {},
   "outputs": [],
   "source": [
    "aver_cuis = data['Cuisine Style'].apply(\n",
    "    lambda x: len(x.split(','))).sum()/len(data)"
   ]
  },
  {
   "cell_type": "markdown",
   "metadata": {},
   "source": [
    "### создадим новый признак больше или меньше среднего значения кухонь в одном ресторане"
   ]
  },
  {
   "cell_type": "markdown",
   "metadata": {},
   "source": [
    "добавление признакак ухудшило МАЕ, закомментируем его"
   ]
  },
  {
   "cell_type": "code",
   "execution_count": 100,
   "metadata": {},
   "outputs": [],
   "source": [
    "#сравниваем кол-во кухонь в ресторане со средним значением\n",
    "#data['More/less_aver_cuis']=data['Number_of_cuisines'].apply(lambda x: x > aver_cuis) \n",
    "#конвертируем буллево значение в 0/1\n",
    "#data['More/less_aver_cuis'] = data['More/less_aver_cuis'].astype(int)"
   ]
  },
  {
   "cell_type": "markdown",
   "metadata": {},
   "source": [
    "# EDA \n"
   ]
  },
  {
   "cell_type": "markdown",
   "metadata": {},
   "source": [
    "### Посмотрим распределение признака Ranking"
   ]
  },
  {
   "cell_type": "code",
   "execution_count": 55,
   "metadata": {},
   "outputs": [
    {
     "data": {
      "text/plain": [
       "<matplotlib.axes._subplots.AxesSubplot at 0x21f983c5748>"
      ]
     },
     "execution_count": 55,
     "metadata": {},
     "output_type": "execute_result"
    },
    {
     "data": {
      "image/png": "[encoded data removed]",
      "text/plain": [
       "<Figure size 720x504 with 1 Axes>"
      ]
     },
     "metadata": {
      "needs_background": "light"
     },
     "output_type": "display_data"
    }
   ],
   "source": [
    "plt.rcParams['figure.figsize'] = (10, 7)\n",
    "df_train['Ranking'].hist(bins=100)"
   ]
  },
  {
   "cell_type": "markdown",
   "metadata": {},
   "source": [
    "У нас много ресторанов, которые не дотягивают и до 2500 места в своем городе, а что там по городам?"
   ]
  },
  {
   "cell_type": "code",
   "execution_count": 56,
   "metadata": {},
   "outputs": [
    {
     "data": {
      "text/plain": [
       "<matplotlib.axes._subplots.AxesSubplot at 0x21f982a5808>"
      ]
     },
     "execution_count": 56,
     "metadata": {},
     "output_type": "execute_result"
    },
    {
     "data": {
      "image/png": "[encoded data removed]",
      "text/plain": [
       "<Figure size 720x504 with 1 Axes>"
      ]
     },
     "metadata": {
      "needs_background": "light"
     },
     "output_type": "display_data"
    }
   ],
   "source": [
    "df_train['City'].value_counts(ascending=True).plot(kind='barh')"
   ]
  },
  {
   "cell_type": "markdown",
   "metadata": {},
   "source": [
    "Посмотрим, как изменится распределение в большом городе:"
   ]
  },
  {
   "cell_type": "code",
   "execution_count": 57,
   "metadata": {
    "scrolled": true
   },
   "outputs": [
    {
     "data": {
      "text/plain": [
       "<matplotlib.axes._subplots.AxesSubplot at 0x21f981e9e88>"
      ]
     },
     "execution_count": 57,
     "metadata": {},
     "output_type": "execute_result"
    },
    {
     "data": {
      "image/png": "[encoded data removed]",
      "text/plain": [
       "<Figure size 720x504 with 1 Axes>"
      ]
     },
     "metadata": {
      "needs_background": "light"
     },
     "output_type": "display_data"
    }
   ],
   "source": [
    "df_train['Ranking'][df_train['City'] =='London'].hist(bins=100)"
   ]
  },
  {
   "cell_type": "code",
   "execution_count": 58,
   "metadata": {},
   "outputs": [
    {
     "data": {
      "image/png": "[encoded data removed]",
      "text/plain": [
       "<Figure size 720x504 with 1 Axes>"
      ]
     },
     "metadata": {
      "needs_background": "light"
     },
     "output_type": "display_data"
    }
   ],
   "source": [
    "# посмотрим на топ 10 городов\n",
    "for x in (df_train['City'].value_counts())[0:10].index:\n",
    "    df_train['Ranking'][df_train['City'] == x].hist(bins=100)\n",
    "plt.show()"
   ]
  },
  {
   "cell_type": "markdown",
   "metadata": {},
   "source": [
    "Получается, что Ranking имеет нормальное распределение, просто в больших городах больше ресторанов, из-за мы этого имеем смещение."
   ]
  },
  {
   "cell_type": "markdown",
   "metadata": {},
   "source": [
    "Получаается, что признак Ranking несколько субъективен и зависит от количества ресторанов в городе, а много ресторанов именно в большом городе, потому что если ресторан занимает 10е место из 10000, то он отличный, а если 10е место из 20, то он может быть и средним, и вообще плохим, так как в в маленьком городе мало выбора.\n",
    "\n",
    "Введем параметр Comp_Ranking - сравнительный ранг = ранг / кол-во ресторанов в городе."
   ]
  },
  {
   "cell_type": "markdown",
   "metadata": {},
   "source": [
    "### добавим новый признак  - сравнительный ранг ресторана в городе"
   ]
  },
  {
   "cell_type": "code",
   "execution_count": 200,
   "metadata": {},
   "outputs": [],
   "source": [
    "data['Comp_Ranking'] = data['Ranking'] / data['Rest_in_city']"
   ]
  },
  {
   "cell_type": "markdown",
   "metadata": {},
   "source": [
    "сделаем аналогичный анализ, но уже по странам"
   ]
  },
  {
   "cell_type": "code",
   "execution_count": 156,
   "metadata": {
    "scrolled": true
   },
   "outputs": [
    {
     "data": {
      "text/plain": [
       "<matplotlib.axes._subplots.AxesSubplot at 0x21f99e65e88>"
      ]
     },
     "execution_count": 156,
     "metadata": {},
     "output_type": "execute_result"
    },
    {
     "data": {
      "image/png": "[encoded data removed]",
      "text/plain": [
       "<Figure size 720x720 with 1 Axes>"
      ]
     },
     "metadata": {
      "needs_background": "light"
     },
     "output_type": "display_data"
    }
   ],
   "source": [
    "data['Country'].value_counts(ascending=True).plot(kind='barh')"
   ]
  },
  {
   "cell_type": "markdown",
   "metadata": {},
   "source": [
    "посмотрим на распределение в стране с самым большим кол-вом ресторанов"
   ]
  },
  {
   "cell_type": "code",
   "execution_count": 157,
   "metadata": {},
   "outputs": [
    {
     "data": {
      "text/plain": [
       "<matplotlib.axes._subplots.AxesSubplot at 0x21f99e73d08>"
      ]
     },
     "execution_count": 157,
     "metadata": {},
     "output_type": "execute_result"
    },
    {
     "data": {
      "image/png": "[encoded data removed]",
      "text/plain": [
       "<Figure size 720x720 with 1 Axes>"
      ]
     },
     "metadata": {
      "needs_background": "light"
     },
     "output_type": "display_data"
    }
   ],
   "source": [
    "data['Ranking'][data['Country'] =='GB'].hist(bins=100)"
   ]
  },
  {
   "cell_type": "markdown",
   "metadata": {},
   "source": [
    "есть перепад в самом начале"
   ]
  },
  {
   "cell_type": "code",
   "execution_count": 158,
   "metadata": {},
   "outputs": [
    {
     "data": {
      "image/png": "[encoded data removed]",
      "text/plain": [
       "<Figure size 720x720 with 1 Axes>"
      ]
     },
     "metadata": {
      "needs_background": "light"
     },
     "output_type": "display_data"
    }
   ],
   "source": [
    "# посмотрим на топ 10 стран\n",
    "for x in (data['Country'].value_counts())[0:10].index:\n",
    "    data['Ranking'][data['Country'] == x].hist(bins=100)\n",
    "plt.show()"
   ]
  },
  {
   "cell_type": "markdown",
   "metadata": {},
   "source": [
    "Распределение по странам похоже на экспоненциальное, в качестве улучшения признаков можно попробовать прологарифмировать или извлечь корень из  Ranking по странам и если будет распределен нормально, то создать новый признак. Пока этого делать не будем, просто обозначим возможность улучшения модели"
   ]
  },
  {
   "cell_type": "markdown",
   "metadata": {},
   "source": [
    "### Посмотрим распределение целевой переменной"
   ]
  },
  {
   "cell_type": "code",
   "execution_count": 60,
   "metadata": {},
   "outputs": [
    {
     "data": {
      "text/plain": [
       "<matplotlib.axes._subplots.AxesSubplot at 0x21f971277c8>"
      ]
     },
     "execution_count": 60,
     "metadata": {},
     "output_type": "execute_result"
    },
    {
     "data": {
      "image/png": "[encoded data removed]",
      "text/plain": [
       "<Figure size 720x504 with 1 Axes>"
      ]
     },
     "metadata": {
      "needs_background": "light"
     },
     "output_type": "display_data"
    }
   ],
   "source": [
    "df_train['Rating'].value_counts(ascending=True).plot(kind='barh')"
   ]
  },
  {
   "cell_type": "markdown",
   "metadata": {},
   "source": [
    "### Посмотрим распределение целевой переменной относительно признака"
   ]
  },
  {
   "cell_type": "code",
   "execution_count": 159,
   "metadata": {},
   "outputs": [
    {
     "data": {
      "text/plain": [
       "<matplotlib.axes._subplots.AxesSubplot at 0x21f97be6348>"
      ]
     },
     "execution_count": 159,
     "metadata": {},
     "output_type": "execute_result"
    },
    {
     "data": {
      "image/png": "[encoded data removed]",
      "text/plain": [
       "<Figure size 720x720 with 1 Axes>"
      ]
     },
     "metadata": {
      "needs_background": "light"
     },
     "output_type": "display_data"
    }
   ],
   "source": [
    "df_train['Ranking'][df_train['Rating'] == 5].hist(bins=100)"
   ]
  },
  {
   "cell_type": "code",
   "execution_count": 160,
   "metadata": {},
   "outputs": [
    {
     "data": {
      "text/plain": [
       "<matplotlib.axes._subplots.AxesSubplot at 0x21f9b851188>"
      ]
     },
     "execution_count": 160,
     "metadata": {},
     "output_type": "execute_result"
    },
    {
     "data": {
      "image/png": "[encoded data removed]",
      "text/plain": [
       "<Figure size 720x720 with 1 Axes>"
      ]
     },
     "metadata": {
      "needs_background": "light"
     },
     "output_type": "display_data"
    }
   ],
   "source": [
    "df_train['Ranking'][df_train['Rating'] < 4].hist(bins=100)"
   ]
  },
  {
   "cell_type": "markdown",
   "metadata": {},
   "source": [
    "### Корреляция"
   ]
  },
  {
   "cell_type": "markdown",
   "metadata": {},
   "source": [
    "перед тем, как вывести тепловую карту с корреляцией, удалим все категориальные признаки"
   ]
  },
  {
   "cell_type": "code",
   "execution_count": 201,
   "metadata": {
    "scrolled": true
   },
   "outputs": [],
   "source": [
    "data.drop(['Cuisine Style', 'Price Range', 'Reviews', 'URL_TA', 'ID_TA', 'date_of_Review'], axis=1, inplace=True)"
   ]
  },
  {
   "cell_type": "code",
   "execution_count": 204,
   "metadata": {
    "scrolled": true
   },
   "outputs": [
    {
     "name": "stdout",
     "output_type": "stream",
     "text": [
      "<class 'pandas.core.frame.DataFrame'>\n",
      "RangeIndex: 50000 entries, 0 to 49999\n",
      "Data columns (total 72 columns):\n",
      " #   Column                   Non-Null Count  Dtype  \n",
      "---  ------                   --------------  -----  \n",
      " 0   Ranking                  50000 non-null  float64\n",
      " 1   Number of Reviews        50000 non-null  float64\n",
      " 2   sample                   50000 non-null  int64  \n",
      " 3   Rating                   50000 non-null  float64\n",
      " 4   Number_of_Reviews_isNAN  50000 non-null  uint8  \n",
      " 5   Cuisine_Style_isNAN      50000 non-null  uint8  \n",
      " 6   Price_Range_isNAN        50000 non-null  uint8  \n",
      " 7   is_capital               50000 non-null  int64  \n",
      " 8   Rest_in_city             50000 non-null  int64  \n",
      " 9   Population               50000 non-null  int64  \n",
      " 10  Rest_per_man             50000 non-null  float64\n",
      " 11  Rest_in_country          50000 non-null  int64  \n",
      " 12  City_Amsterdam           50000 non-null  uint8  \n",
      " 13  City_Athens              50000 non-null  uint8  \n",
      " 14  City_Barcelona           50000 non-null  uint8  \n",
      " 15  City_Berlin              50000 non-null  uint8  \n",
      " 16  City_Bratislava          50000 non-null  uint8  \n",
      " 17  City_Brussels            50000 non-null  uint8  \n",
      " 18  City_Budapest            50000 non-null  uint8  \n",
      " 19  City_Copenhagen          50000 non-null  uint8  \n",
      " 20  City_Dublin              50000 non-null  uint8  \n",
      " 21  City_Edinburgh           50000 non-null  uint8  \n",
      " 22  City_Geneva              50000 non-null  uint8  \n",
      " 23  City_Hamburg             50000 non-null  uint8  \n",
      " 24  City_Helsinki            50000 non-null  uint8  \n",
      " 25  City_Krakow              50000 non-null  uint8  \n",
      " 26  City_Lisbon              50000 non-null  uint8  \n",
      " 27  City_Ljubljana           50000 non-null  uint8  \n",
      " 28  City_London              50000 non-null  uint8  \n",
      " 29  City_Luxembourg          50000 non-null  uint8  \n",
      " 30  City_Lyon                50000 non-null  uint8  \n",
      " 31  City_Madrid              50000 non-null  uint8  \n",
      " 32  City_Milan               50000 non-null  uint8  \n",
      " 33  City_Munich              50000 non-null  uint8  \n",
      " 34  City_Oporto              50000 non-null  uint8  \n",
      " 35  City_Oslo                50000 non-null  uint8  \n",
      " 36  City_Paris               50000 non-null  uint8  \n",
      " 37  City_Prague              50000 non-null  uint8  \n",
      " 38  City_Rome                50000 non-null  uint8  \n",
      " 39  City_Stockholm           50000 non-null  uint8  \n",
      " 40  City_Vienna              50000 non-null  uint8  \n",
      " 41  City_Warsaw              50000 non-null  uint8  \n",
      " 42  City_Zurich              50000 non-null  uint8  \n",
      " 43  City_nan                 50000 non-null  uint8  \n",
      " 44  Country_AT               50000 non-null  uint8  \n",
      " 45  Country_BE               50000 non-null  uint8  \n",
      " 46  Country_CH               50000 non-null  uint8  \n",
      " 47  Country_CZ               50000 non-null  uint8  \n",
      " 48  Country_DE               50000 non-null  uint8  \n",
      " 49  Country_DK               50000 non-null  uint8  \n",
      " 50  Country_ES               50000 non-null  uint8  \n",
      " 51  Country_FI               50000 non-null  uint8  \n",
      " 52  Country_FR               50000 non-null  uint8  \n",
      " 53  Country_GB               50000 non-null  uint8  \n",
      " 54  Country_GR               50000 non-null  uint8  \n",
      " 55  Country_HU               50000 non-null  uint8  \n",
      " 56  Country_IE               50000 non-null  uint8  \n",
      " 57  Country_IT               50000 non-null  uint8  \n",
      " 58  Country_LU               50000 non-null  uint8  \n",
      " 59  Country_NL               50000 non-null  uint8  \n",
      " 60  Country_NO               50000 non-null  uint8  \n",
      " 61  Country_PL               50000 non-null  uint8  \n",
      " 62  Country_PT               50000 non-null  uint8  \n",
      " 63  Country_SE               50000 non-null  uint8  \n",
      " 64  Country_SI               50000 non-null  uint8  \n",
      " 65  Country_SK               50000 non-null  uint8  \n",
      " 66  Country_nan              50000 non-null  uint8  \n",
      " 67  Price Range_Cat          50000 non-null  int32  \n",
      " 68  day_between_Reviews      50000 non-null  float64\n",
      " 69  day_from_last_review     50000 non-null  float64\n",
      " 70  Number_of_cuisines       50000 non-null  int64  \n",
      " 71  Comp_Ranking             50000 non-null  float64\n",
      "dtypes: float64(7), int32(1), int64(6), uint8(58)\n",
      "memory usage: 7.9 MB\n"
     ]
    }
   ],
   "source": [
    "data.info()"
   ]
  },
  {
   "cell_type": "code",
   "execution_count": 205,
   "metadata": {},
   "outputs": [
    {
     "data": {
      "text/plain": [
       "<matplotlib.axes._subplots.AxesSubplot at 0x21f985acfc8>"
      ]
     },
     "execution_count": 205,
     "metadata": {},
     "output_type": "execute_result"
    },
    {
     "data": {
      "image/png": "[encoded data removed]",
      "text/plain": [
       "<Figure size 1800x1440 with 2 Axes>"
      ]
     },
     "metadata": {
      "needs_background": "light"
     },
     "output_type": "display_data"
    }
   ],
   "source": [
    "plt.rcParams['figure.figsize'] = (25,20)\n",
    "sns.heatmap(data.drop(['sample'], axis=1).corr(),)"
   ]
  },
  {
   "cell_type": "markdown",
   "metadata": {},
   "source": [
    "Есть сильно скоррелированные параметры, но поскольку модель у нас уже выбрана и это случайный лес, то удалять ничего не будем, так как для случайного леса мультиколлинеарность не проблема, как и не проблема распределение, не являющееся нормальным"
   ]
  },
  {
   "cell_type": "code",
   "execution_count": 206,
   "metadata": {},
   "outputs": [],
   "source": [
    "# Теперь выделим тестовую часть\n",
    "train_data = data.query('sample == 1').drop(['sample'], axis=1)\n",
    "test_data = data.query('sample == 0').drop(['sample'], axis=1)\n",
    "\n",
    "y = train_data.Rating.values            # наш таргет\n",
    "X = train_data.drop(['Rating'], axis=1)"
   ]
  },
  {
   "cell_type": "markdown",
   "metadata": {},
   "source": [
    "**Перед тем как отправлять наши данные на обучение, разделим данные на еще один тест и трейн, для валидации. \n",
    "Это поможет нам проверить, как хорошо наша модель работает, до отправки submissiona на kaggle.**"
   ]
  },
  {
   "cell_type": "code",
   "execution_count": 207,
   "metadata": {},
   "outputs": [],
   "source": [
    "# Воспользуемся специальной функцие train_test_split для разбивки тестовых данных\n",
    "# выделим 20% данных на валидацию (параметр test_size)\n",
    "X_train, X_test, y_train, y_test = train_test_split(X, y, test_size=0.2, random_state=RANDOM_SEED)"
   ]
  },
  {
   "cell_type": "code",
   "execution_count": 208,
   "metadata": {
    "scrolled": true
   },
   "outputs": [
    {
     "data": {
      "text/plain": [
       "((10000, 71), (40000, 71), (40000, 70), (32000, 70), (8000, 70))"
      ]
     },
     "execution_count": 208,
     "metadata": {},
     "output_type": "execute_result"
    }
   ],
   "source": [
    "# проверяем\n",
    "test_data.shape, train_data.shape, X.shape, X_train.shape, X_test.shape"
   ]
  },
  {
   "cell_type": "markdown",
   "metadata": {},
   "source": [
    "# Model \n",
    "Сам ML"
   ]
  },
  {
   "cell_type": "code",
   "execution_count": 209,
   "metadata": {},
   "outputs": [],
   "source": [
    "# Импортируем необходимые библиотеки:\n",
    "from sklearn.ensemble import RandomForestRegressor # инструмент для создания и обучения модели\n",
    "from sklearn import metrics # инструменты для оценки точности модели"
   ]
  },
  {
   "cell_type": "code",
   "execution_count": 210,
   "metadata": {},
   "outputs": [],
   "source": [
    "# Создаём модель (НАСТРОЙКИ НЕ ТРОГАЕМ)\n",
    "model = RandomForestRegressor(n_estimators=100, verbose=1, n_jobs=-1, random_state=RANDOM_SEED)"
   ]
  },
  {
   "cell_type": "code",
   "execution_count": 211,
   "metadata": {},
   "outputs": [
    {
     "name": "stderr",
     "output_type": "stream",
     "text": [
      "[Parallel(n_jobs=-1)]: Using backend ThreadingBackend with 4 concurrent workers.\n",
      "[Parallel(n_jobs=-1)]: Done  42 tasks      | elapsed:    7.5s\n",
      "[Parallel(n_jobs=-1)]: Done 100 out of 100 | elapsed:   18.9s finished\n",
      "[Parallel(n_jobs=4)]: Using backend ThreadingBackend with 4 concurrent workers.\n",
      "[Parallel(n_jobs=4)]: Done  42 tasks      | elapsed:    0.0s\n",
      "[Parallel(n_jobs=4)]: Done 100 out of 100 | elapsed:    0.0s finished\n"
     ]
    }
   ],
   "source": [
    "# Обучаем модель на тестовом наборе данных\n",
    "model.fit(X_train, y_train)\n",
    "\n",
    "# Используем обученную модель для предсказания рейтинга ресторанов в тестовой выборке.\n",
    "# Предсказанные значения записываем в переменную y_pred\n",
    "y_pred = model.predict(X_test)"
   ]
  },
  {
   "cell_type": "code",
   "execution_count": 212,
   "metadata": {},
   "outputs": [
    {
     "name": "stdout",
     "output_type": "stream",
     "text": [
      "MAE: 0.2022425\n"
     ]
    }
   ],
   "source": [
    "# Сравниваем предсказанные значения (y_pred) с реальными (y_test), и смотрим насколько они в среднем отличаются\n",
    "# Метрика называется Mean Absolute Error (MAE) и показывает среднее отклонение предсказанных значений от фактических.\n",
    "print('MAE:', metrics.mean_absolute_error(y_test, y_pred))"
   ]
  },
  {
   "cell_type": "code",
   "execution_count": 213,
   "metadata": {},
   "outputs": [
    {
     "data": {
      "text/plain": [
       "<matplotlib.axes._subplots.AxesSubplot at 0x21f98881c08>"
      ]
     },
     "execution_count": 213,
     "metadata": {},
     "output_type": "execute_result"
    },
    {
     "data": {
      "image/png": "[encoded data removed]",
      "text/plain": [
       "<Figure size 720x720 with 1 Axes>"
      ]
     },
     "metadata": {
      "needs_background": "light"
     },
     "output_type": "display_data"
    }
   ],
   "source": [
    "# в RandomForestRegressor есть возможность вывести самые важные признаки для модели\n",
    "plt.rcParams['figure.figsize'] = (10,10)\n",
    "feat_importances = pd.Series(model.feature_importances_, index=X.columns)\n",
    "feat_importances.nlargest(15).plot(kind='barh')"
   ]
  },
  {
   "cell_type": "markdown",
   "metadata": {},
   "source": [
    "# Submission\n",
    "Если все устраевает - готовим Submission на кагл"
   ]
  },
  {
   "cell_type": "code",
   "execution_count": 214,
   "metadata": {},
   "outputs": [
    {
     "data": {
      "text/html": [
       "<div>\n",
       "<style scoped>\n",
       "    .dataframe tbody tr th:only-of-type {\n",
       "        vertical-align: middle;\n",
       "    }\n",
       "\n",
       "    .dataframe tbody tr th {\n",
       "        vertical-align: top;\n",
       "    }\n",
       "\n",
       "    .dataframe thead th {\n",
       "        text-align: right;\n",
       "    }\n",
       "</style>\n",
       "<table border=\"1\" class=\"dataframe\">\n",
       "  <thead>\n",
       "    <tr style=\"text-align: right;\">\n",
       "      <th></th>\n",
       "      <th>Ranking</th>\n",
       "      <th>Number of Reviews</th>\n",
       "      <th>Rating</th>\n",
       "      <th>Number_of_Reviews_isNAN</th>\n",
       "      <th>Cuisine_Style_isNAN</th>\n",
       "      <th>Price_Range_isNAN</th>\n",
       "      <th>is_capital</th>\n",
       "      <th>Rest_in_city</th>\n",
       "      <th>Population</th>\n",
       "      <th>Rest_per_man</th>\n",
       "      <th>...</th>\n",
       "      <th>Country_PT</th>\n",
       "      <th>Country_SE</th>\n",
       "      <th>Country_SI</th>\n",
       "      <th>Country_SK</th>\n",
       "      <th>Country_nan</th>\n",
       "      <th>Price Range_Cat</th>\n",
       "      <th>day_between_Reviews</th>\n",
       "      <th>day_from_last_review</th>\n",
       "      <th>Number_of_cuisines</th>\n",
       "      <th>Comp_Ranking</th>\n",
       "    </tr>\n",
       "  </thead>\n",
       "  <tbody>\n",
       "    <tr>\n",
       "      <th>7706</th>\n",
       "      <td>1254.0</td>\n",
       "      <td>48.0</td>\n",
       "      <td>0.0</td>\n",
       "      <td>0</td>\n",
       "      <td>0</td>\n",
       "      <td>1</td>\n",
       "      <td>0</td>\n",
       "      <td>1126</td>\n",
       "      <td>496343</td>\n",
       "      <td>440.801954</td>\n",
       "      <td>...</td>\n",
       "      <td>0</td>\n",
       "      <td>0</td>\n",
       "      <td>0</td>\n",
       "      <td>0</td>\n",
       "      <td>0</td>\n",
       "      <td>1</td>\n",
       "      <td>0.0</td>\n",
       "      <td>0.0</td>\n",
       "      <td>2</td>\n",
       "      <td>1.113677</td>\n",
       "    </tr>\n",
       "    <tr>\n",
       "      <th>7171</th>\n",
       "      <td>202.0</td>\n",
       "      <td>99.0</td>\n",
       "      <td>0.0</td>\n",
       "      <td>0</td>\n",
       "      <td>0</td>\n",
       "      <td>0</td>\n",
       "      <td>1</td>\n",
       "      <td>776</td>\n",
       "      <td>3168846</td>\n",
       "      <td>4083.564433</td>\n",
       "      <td>...</td>\n",
       "      <td>0</td>\n",
       "      <td>0</td>\n",
       "      <td>0</td>\n",
       "      <td>0</td>\n",
       "      <td>0</td>\n",
       "      <td>0</td>\n",
       "      <td>42.0</td>\n",
       "      <td>922.0</td>\n",
       "      <td>5</td>\n",
       "      <td>0.260309</td>\n",
       "    </tr>\n",
       "    <tr>\n",
       "      <th>1626</th>\n",
       "      <td>3841.0</td>\n",
       "      <td>17.0</td>\n",
       "      <td>0.0</td>\n",
       "      <td>0</td>\n",
       "      <td>0</td>\n",
       "      <td>0</td>\n",
       "      <td>1</td>\n",
       "      <td>1816</td>\n",
       "      <td>1272690</td>\n",
       "      <td>700.820485</td>\n",
       "      <td>...</td>\n",
       "      <td>0</td>\n",
       "      <td>0</td>\n",
       "      <td>0</td>\n",
       "      <td>0</td>\n",
       "      <td>0</td>\n",
       "      <td>1</td>\n",
       "      <td>79.0</td>\n",
       "      <td>1360.0</td>\n",
       "      <td>1</td>\n",
       "      <td>2.115088</td>\n",
       "    </tr>\n",
       "    <tr>\n",
       "      <th>6567</th>\n",
       "      <td>12303.0</td>\n",
       "      <td>27.0</td>\n",
       "      <td>0.0</td>\n",
       "      <td>0</td>\n",
       "      <td>0</td>\n",
       "      <td>0</td>\n",
       "      <td>1</td>\n",
       "      <td>6108</td>\n",
       "      <td>2240621</td>\n",
       "      <td>366.833824</td>\n",
       "      <td>...</td>\n",
       "      <td>0</td>\n",
       "      <td>0</td>\n",
       "      <td>0</td>\n",
       "      <td>0</td>\n",
       "      <td>0</td>\n",
       "      <td>0</td>\n",
       "      <td>124.0</td>\n",
       "      <td>1077.0</td>\n",
       "      <td>1</td>\n",
       "      <td>2.014244</td>\n",
       "    </tr>\n",
       "    <tr>\n",
       "      <th>4296</th>\n",
       "      <td>14043.0</td>\n",
       "      <td>2.0</td>\n",
       "      <td>0.0</td>\n",
       "      <td>0</td>\n",
       "      <td>1</td>\n",
       "      <td>1</td>\n",
       "      <td>1</td>\n",
       "      <td>7193</td>\n",
       "      <td>8173900</td>\n",
       "      <td>1136.368692</td>\n",
       "      <td>...</td>\n",
       "      <td>0</td>\n",
       "      <td>0</td>\n",
       "      <td>0</td>\n",
       "      <td>0</td>\n",
       "      <td>0</td>\n",
       "      <td>1</td>\n",
       "      <td>195.0</td>\n",
       "      <td>1338.0</td>\n",
       "      <td>1</td>\n",
       "      <td>1.952315</td>\n",
       "    </tr>\n",
       "    <tr>\n",
       "      <th>6375</th>\n",
       "      <td>1389.0</td>\n",
       "      <td>27.0</td>\n",
       "      <td>0.0</td>\n",
       "      <td>0</td>\n",
       "      <td>0</td>\n",
       "      <td>0</td>\n",
       "      <td>1</td>\n",
       "      <td>1816</td>\n",
       "      <td>1272690</td>\n",
       "      <td>700.820485</td>\n",
       "      <td>...</td>\n",
       "      <td>0</td>\n",
       "      <td>0</td>\n",
       "      <td>0</td>\n",
       "      <td>0</td>\n",
       "      <td>0</td>\n",
       "      <td>1</td>\n",
       "      <td>195.0</td>\n",
       "      <td>924.0</td>\n",
       "      <td>4</td>\n",
       "      <td>0.764868</td>\n",
       "    </tr>\n",
       "    <tr>\n",
       "      <th>6926</th>\n",
       "      <td>1260.0</td>\n",
       "      <td>85.0</td>\n",
       "      <td>0.0</td>\n",
       "      <td>0</td>\n",
       "      <td>0</td>\n",
       "      <td>0</td>\n",
       "      <td>1</td>\n",
       "      <td>1372</td>\n",
       "      <td>825080</td>\n",
       "      <td>601.370262</td>\n",
       "      <td>...</td>\n",
       "      <td>0</td>\n",
       "      <td>0</td>\n",
       "      <td>0</td>\n",
       "      <td>0</td>\n",
       "      <td>0</td>\n",
       "      <td>1</td>\n",
       "      <td>35.0</td>\n",
       "      <td>999.0</td>\n",
       "      <td>3</td>\n",
       "      <td>0.918367</td>\n",
       "    </tr>\n",
       "    <tr>\n",
       "      <th>8731</th>\n",
       "      <td>12486.0</td>\n",
       "      <td>5.0</td>\n",
       "      <td>0.0</td>\n",
       "      <td>0</td>\n",
       "      <td>1</td>\n",
       "      <td>1</td>\n",
       "      <td>1</td>\n",
       "      <td>6108</td>\n",
       "      <td>2240621</td>\n",
       "      <td>366.833824</td>\n",
       "      <td>...</td>\n",
       "      <td>0</td>\n",
       "      <td>0</td>\n",
       "      <td>0</td>\n",
       "      <td>0</td>\n",
       "      <td>0</td>\n",
       "      <td>1</td>\n",
       "      <td>0.0</td>\n",
       "      <td>996.0</td>\n",
       "      <td>1</td>\n",
       "      <td>2.044204</td>\n",
       "    </tr>\n",
       "    <tr>\n",
       "      <th>5010</th>\n",
       "      <td>8992.0</td>\n",
       "      <td>2.0</td>\n",
       "      <td>0.0</td>\n",
       "      <td>0</td>\n",
       "      <td>1</td>\n",
       "      <td>1</td>\n",
       "      <td>1</td>\n",
       "      <td>7193</td>\n",
       "      <td>8173900</td>\n",
       "      <td>1136.368692</td>\n",
       "      <td>...</td>\n",
       "      <td>0</td>\n",
       "      <td>0</td>\n",
       "      <td>0</td>\n",
       "      <td>0</td>\n",
       "      <td>0</td>\n",
       "      <td>1</td>\n",
       "      <td>561.0</td>\n",
       "      <td>1327.0</td>\n",
       "      <td>1</td>\n",
       "      <td>1.250104</td>\n",
       "    </tr>\n",
       "    <tr>\n",
       "      <th>428</th>\n",
       "      <td>2614.0</td>\n",
       "      <td>236.0</td>\n",
       "      <td>0.0</td>\n",
       "      <td>0</td>\n",
       "      <td>0</td>\n",
       "      <td>0</td>\n",
       "      <td>1</td>\n",
       "      <td>2589</td>\n",
       "      <td>2870493</td>\n",
       "      <td>1108.726535</td>\n",
       "      <td>...</td>\n",
       "      <td>0</td>\n",
       "      <td>0</td>\n",
       "      <td>0</td>\n",
       "      <td>0</td>\n",
       "      <td>0</td>\n",
       "      <td>1</td>\n",
       "      <td>53.0</td>\n",
       "      <td>1329.0</td>\n",
       "      <td>5</td>\n",
       "      <td>1.009656</td>\n",
       "    </tr>\n",
       "  </tbody>\n",
       "</table>\n",
       "<p>10 rows × 71 columns</p>\n",
       "</div>"
      ],
      "text/plain": [
       "      Ranking  Number of Reviews  Rating  Number_of_Reviews_isNAN  \\\n",
       "7706   1254.0               48.0     0.0                        0   \n",
       "7171    202.0               99.0     0.0                        0   \n",
       "1626   3841.0               17.0     0.0                        0   \n",
       "6567  12303.0               27.0     0.0                        0   \n",
       "4296  14043.0                2.0     0.0                        0   \n",
       "6375   1389.0               27.0     0.0                        0   \n",
       "6926   1260.0               85.0     0.0                        0   \n",
       "8731  12486.0                5.0     0.0                        0   \n",
       "5010   8992.0                2.0     0.0                        0   \n",
       "428    2614.0              236.0     0.0                        0   \n",
       "\n",
       "      Cuisine_Style_isNAN  Price_Range_isNAN  is_capital  Rest_in_city  \\\n",
       "7706                    0                  1           0          1126   \n",
       "7171                    0                  0           1           776   \n",
       "1626                    0                  0           1          1816   \n",
       "6567                    0                  0           1          6108   \n",
       "4296                    1                  1           1          7193   \n",
       "6375                    0                  0           1          1816   \n",
       "6926                    0                  0           1          1372   \n",
       "8731                    1                  1           1          6108   \n",
       "5010                    1                  1           1          7193   \n",
       "428                     0                  0           1          2589   \n",
       "\n",
       "      Population  Rest_per_man  ...  Country_PT  Country_SE  Country_SI  \\\n",
       "7706      496343    440.801954  ...           0           0           0   \n",
       "7171     3168846   4083.564433  ...           0           0           0   \n",
       "1626     1272690    700.820485  ...           0           0           0   \n",
       "6567     2240621    366.833824  ...           0           0           0   \n",
       "4296     8173900   1136.368692  ...           0           0           0   \n",
       "6375     1272690    700.820485  ...           0           0           0   \n",
       "6926      825080    601.370262  ...           0           0           0   \n",
       "8731     2240621    366.833824  ...           0           0           0   \n",
       "5010     8173900   1136.368692  ...           0           0           0   \n",
       "428      2870493   1108.726535  ...           0           0           0   \n",
       "\n",
       "      Country_SK  Country_nan  Price Range_Cat  day_between_Reviews  \\\n",
       "7706           0            0                1                  0.0   \n",
       "7171           0            0                0                 42.0   \n",
       "1626           0            0                1                 79.0   \n",
       "6567           0            0                0                124.0   \n",
       "4296           0            0                1                195.0   \n",
       "6375           0            0                1                195.0   \n",
       "6926           0            0                1                 35.0   \n",
       "8731           0            0                1                  0.0   \n",
       "5010           0            0                1                561.0   \n",
       "428            0            0                1                 53.0   \n",
       "\n",
       "      day_from_last_review  Number_of_cuisines  Comp_Ranking  \n",
       "7706                   0.0                   2      1.113677  \n",
       "7171                 922.0                   5      0.260309  \n",
       "1626                1360.0                   1      2.115088  \n",
       "6567                1077.0                   1      2.014244  \n",
       "4296                1338.0                   1      1.952315  \n",
       "6375                 924.0                   4      0.764868  \n",
       "6926                 999.0                   3      0.918367  \n",
       "8731                 996.0                   1      2.044204  \n",
       "5010                1327.0                   1      1.250104  \n",
       "428                 1329.0                   5      1.009656  \n",
       "\n",
       "[10 rows x 71 columns]"
      ]
     },
     "execution_count": 214,
     "metadata": {},
     "output_type": "execute_result"
    }
   ],
   "source": [
    "test_data.sample(10)"
   ]
  },
  {
   "cell_type": "code",
   "execution_count": 215,
   "metadata": {},
   "outputs": [],
   "source": [
    "test_data = test_data.drop(['Rating'], axis=1)"
   ]
  },
  {
   "cell_type": "code",
   "execution_count": 216,
   "metadata": {},
   "outputs": [
    {
     "data": {
      "text/html": [
       "<div>\n",
       "<style scoped>\n",
       "    .dataframe tbody tr th:only-of-type {\n",
       "        vertical-align: middle;\n",
       "    }\n",
       "\n",
       "    .dataframe tbody tr th {\n",
       "        vertical-align: top;\n",
       "    }\n",
       "\n",
       "    .dataframe thead th {\n",
       "        text-align: right;\n",
       "    }\n",
       "</style>\n",
       "<table border=\"1\" class=\"dataframe\">\n",
       "  <thead>\n",
       "    <tr style=\"text-align: right;\">\n",
       "      <th></th>\n",
       "      <th>Restaurant_id</th>\n",
       "      <th>Rating</th>\n",
       "    </tr>\n",
       "  </thead>\n",
       "  <tbody>\n",
       "    <tr>\n",
       "      <th>0</th>\n",
       "      <td>id_0</td>\n",
       "      <td>2.0</td>\n",
       "    </tr>\n",
       "    <tr>\n",
       "      <th>1</th>\n",
       "      <td>id_1</td>\n",
       "      <td>2.5</td>\n",
       "    </tr>\n",
       "    <tr>\n",
       "      <th>2</th>\n",
       "      <td>id_2</td>\n",
       "      <td>4.0</td>\n",
       "    </tr>\n",
       "    <tr>\n",
       "      <th>3</th>\n",
       "      <td>id_3</td>\n",
       "      <td>1.0</td>\n",
       "    </tr>\n",
       "    <tr>\n",
       "      <th>4</th>\n",
       "      <td>id_4</td>\n",
       "      <td>4.0</td>\n",
       "    </tr>\n",
       "    <tr>\n",
       "      <th>...</th>\n",
       "      <td>...</td>\n",
       "      <td>...</td>\n",
       "    </tr>\n",
       "    <tr>\n",
       "      <th>9995</th>\n",
       "      <td>id_9995</td>\n",
       "      <td>3.0</td>\n",
       "    </tr>\n",
       "    <tr>\n",
       "      <th>9996</th>\n",
       "      <td>id_9996</td>\n",
       "      <td>1.5</td>\n",
       "    </tr>\n",
       "    <tr>\n",
       "      <th>9997</th>\n",
       "      <td>id_9997</td>\n",
       "      <td>4.5</td>\n",
       "    </tr>\n",
       "    <tr>\n",
       "      <th>9998</th>\n",
       "      <td>id_9998</td>\n",
       "      <td>1.0</td>\n",
       "    </tr>\n",
       "    <tr>\n",
       "      <th>9999</th>\n",
       "      <td>id_9999</td>\n",
       "      <td>2.5</td>\n",
       "    </tr>\n",
       "  </tbody>\n",
       "</table>\n",
       "<p>10000 rows × 2 columns</p>\n",
       "</div>"
      ],
      "text/plain": [
       "     Restaurant_id  Rating\n",
       "0             id_0     2.0\n",
       "1             id_1     2.5\n",
       "2             id_2     4.0\n",
       "3             id_3     1.0\n",
       "4             id_4     4.0\n",
       "...            ...     ...\n",
       "9995       id_9995     3.0\n",
       "9996       id_9996     1.5\n",
       "9997       id_9997     4.5\n",
       "9998       id_9998     1.0\n",
       "9999       id_9999     2.5\n",
       "\n",
       "[10000 rows x 2 columns]"
      ]
     },
     "execution_count": 216,
     "metadata": {},
     "output_type": "execute_result"
    }
   ],
   "source": [
    "sample_submission"
   ]
  },
  {
   "cell_type": "code",
   "execution_count": 217,
   "metadata": {},
   "outputs": [
    {
     "name": "stderr",
     "output_type": "stream",
     "text": [
      "[Parallel(n_jobs=4)]: Using backend ThreadingBackend with 4 concurrent workers.\n",
      "[Parallel(n_jobs=4)]: Done  42 tasks      | elapsed:    0.0s\n",
      "[Parallel(n_jobs=4)]: Done 100 out of 100 | elapsed:    0.0s finished\n"
     ]
    }
   ],
   "source": [
    "predict_submission = model.predict(test_data)"
   ]
  },
  {
   "cell_type": "code",
   "execution_count": 218,
   "metadata": {},
   "outputs": [
    {
     "data": {
      "text/plain": [
       "array([3.065, 4.19 , 4.475, ..., 3.025, 4.49 , 4.39 ])"
      ]
     },
     "execution_count": 218,
     "metadata": {},
     "output_type": "execute_result"
    }
   ],
   "source": [
    "predict_submission"
   ]
  },
  {
   "cell_type": "code",
   "execution_count": 219,
   "metadata": {},
   "outputs": [
    {
     "data": {
      "text/html": [
       "<div>\n",
       "<style scoped>\n",
       "    .dataframe tbody tr th:only-of-type {\n",
       "        vertical-align: middle;\n",
       "    }\n",
       "\n",
       "    .dataframe tbody tr th {\n",
       "        vertical-align: top;\n",
       "    }\n",
       "\n",
       "    .dataframe thead th {\n",
       "        text-align: right;\n",
       "    }\n",
       "</style>\n",
       "<table border=\"1\" class=\"dataframe\">\n",
       "  <thead>\n",
       "    <tr style=\"text-align: right;\">\n",
       "      <th></th>\n",
       "      <th>Restaurant_id</th>\n",
       "      <th>Rating</th>\n",
       "    </tr>\n",
       "  </thead>\n",
       "  <tbody>\n",
       "    <tr>\n",
       "      <th>0</th>\n",
       "      <td>id_0</td>\n",
       "      <td>3.065</td>\n",
       "    </tr>\n",
       "    <tr>\n",
       "      <th>1</th>\n",
       "      <td>id_1</td>\n",
       "      <td>4.190</td>\n",
       "    </tr>\n",
       "    <tr>\n",
       "      <th>2</th>\n",
       "      <td>id_2</td>\n",
       "      <td>4.475</td>\n",
       "    </tr>\n",
       "    <tr>\n",
       "      <th>3</th>\n",
       "      <td>id_3</td>\n",
       "      <td>4.295</td>\n",
       "    </tr>\n",
       "    <tr>\n",
       "      <th>4</th>\n",
       "      <td>id_4</td>\n",
       "      <td>4.450</td>\n",
       "    </tr>\n",
       "    <tr>\n",
       "      <th>5</th>\n",
       "      <td>id_5</td>\n",
       "      <td>4.445</td>\n",
       "    </tr>\n",
       "    <tr>\n",
       "      <th>6</th>\n",
       "      <td>id_6</td>\n",
       "      <td>2.935</td>\n",
       "    </tr>\n",
       "    <tr>\n",
       "      <th>7</th>\n",
       "      <td>id_7</td>\n",
       "      <td>2.370</td>\n",
       "    </tr>\n",
       "    <tr>\n",
       "      <th>8</th>\n",
       "      <td>id_8</td>\n",
       "      <td>4.075</td>\n",
       "    </tr>\n",
       "    <tr>\n",
       "      <th>9</th>\n",
       "      <td>id_9</td>\n",
       "      <td>4.620</td>\n",
       "    </tr>\n",
       "  </tbody>\n",
       "</table>\n",
       "</div>"
      ],
      "text/plain": [
       "  Restaurant_id  Rating\n",
       "0          id_0   3.065\n",
       "1          id_1   4.190\n",
       "2          id_2   4.475\n",
       "3          id_3   4.295\n",
       "4          id_4   4.450\n",
       "5          id_5   4.445\n",
       "6          id_6   2.935\n",
       "7          id_7   2.370\n",
       "8          id_8   4.075\n",
       "9          id_9   4.620"
      ]
     },
     "execution_count": 219,
     "metadata": {},
     "output_type": "execute_result"
    }
   ],
   "source": [
    "sample_submission['Rating'] = predict_submission\n",
    "sample_submission.to_csv('submission.csv', index=False)\n",
    "sample_submission.head(10)"
   ]
  },
  {
   "cell_type": "code",
   "execution_count": null,
   "metadata": {},
   "outputs": [],
   "source": []
  }
 ],
 "metadata": {
  "kernelspec": {
   "display_name": "Python 3",
   "language": "python",
   "name": "python3"
  },
  "language_info": {
   "codemirror_mode": {
    "name": "ipython",
    "version": 3
   },
   "file_extension": ".py",
   "mimetype": "text/x-python",
   "name": "python",
   "nbconvert_exporter": "python",
   "pygments_lexer": "ipython3",
   "version": "3.7.7"
  },
  "toc": {
   "base_numbering": 1,
   "nav_menu": {},
   "number_sections": true,
   "sideBar": true,
   "skip_h1_title": false,
   "title_cell": "Table of Contents",
   "title_sidebar": "Contents",
   "toc_cell": false,
   "toc_position": {
    "height": "calc(100% - 180px)",
    "left": "10px",
    "top": "150px",
    "width": "252px"
   },
   "toc_section_display": true,
   "toc_window_display": true
  }
 },
 "nbformat": 4,
 "nbformat_minor": 4
}
