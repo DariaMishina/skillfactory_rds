{
 "cells": [
  {
   "cell_type": "markdown",
   "metadata": {},
   "source": [
    "Импортируем необходимые библиотеки"
   ]
  },
  {
   "cell_type": "code",
   "execution_count": 20,
   "metadata": {},
   "outputs": [],
   "source": [
    "from datetime import datetime\n",
    "\n",
    "import pandas as pd\n",
    "\n",
    "pd.set_option('display.max_rows', 200)\n",
    "pd.set_option('display.max_columns', 50)\n",
    "\n",
    "import matplotlib.pyplot as plt\n",
    "%matplotlib inline\n",
    "\n",
    "import os\n",
    "for dirname, _, filenames in os.walk('/kaggle/input'):\n",
    "    for filename in filenames:\n",
    "        print(os.path.join(dirname, filename))\n",
    "\n",
    "import seaborn as sns\n",
    "\n",
    "from sklearn.preprocessing import OneHotEncoder"
   ]
  },
  {
   "cell_type": "markdown",
   "metadata": {},
   "source": [
    "Загружаем данные"
   ]
  },
  {
   "cell_type": "code",
   "execution_count": 21,
   "metadata": {},
   "outputs": [],
   "source": [
    "train = pd.read_csv('train.csv', low_memory=False)\n",
    "test = pd.read_csv('test.csv', low_memory=False)\n",
    "submission = pd.read_csv('sample_submission.csv')"
   ]
  },
  {
   "cell_type": "markdown",
   "metadata": {},
   "source": [
    "выведем побольше колонок и строк"
   ]
  },
  {
   "cell_type": "code",
   "execution_count": 5,
   "metadata": {},
   "outputs": [],
   "source": [
    "max_columns = 30\n",
    "max_rows = 30\n",
    "pd.set_option('display.max_columns', max_columns)\n",
    "pd.set_option('display.max_rows', max_rows)"
   ]
  },
  {
   "cell_type": "markdown",
   "metadata": {},
   "source": [
    "Рассмотрим, какие типы данных у столбцов и сколько пропусков:"
   ]
  },
  {
   "cell_type": "code",
   "execution_count": 10,
   "metadata": {},
   "outputs": [
    {
     "data": {
      "text/html": [
       "<div>\n",
       "<style scoped>\n",
       "    .dataframe tbody tr th:only-of-type {\n",
       "        vertical-align: middle;\n",
       "    }\n",
       "\n",
       "    .dataframe tbody tr th {\n",
       "        vertical-align: top;\n",
       "    }\n",
       "\n",
       "    .dataframe thead th {\n",
       "        text-align: right;\n",
       "    }\n",
       "</style>\n",
       "<table border=\"1\" class=\"dataframe\">\n",
       "  <thead>\n",
       "    <tr style=\"text-align: right;\">\n",
       "      <th></th>\n",
       "      <th>overall</th>\n",
       "      <th>verified</th>\n",
       "      <th>reviewTime</th>\n",
       "      <th>asin</th>\n",
       "      <th>reviewerName</th>\n",
       "      <th>reviewText</th>\n",
       "      <th>summary</th>\n",
       "      <th>unixReviewTime</th>\n",
       "      <th>vote</th>\n",
       "      <th>style</th>\n",
       "      <th>image</th>\n",
       "      <th>userid</th>\n",
       "      <th>itemid</th>\n",
       "      <th>rating</th>\n",
       "    </tr>\n",
       "  </thead>\n",
       "  <tbody>\n",
       "    <tr>\n",
       "      <th>0</th>\n",
       "      <td>5.0</td>\n",
       "      <td>True</td>\n",
       "      <td>10 4, 2016</td>\n",
       "      <td>B01CPNIEQG</td>\n",
       "      <td>Heather</td>\n",
       "      <td>These are my FAVORITE spices in my collection....</td>\n",
       "      <td>Must Add to your Spice kitchen!</td>\n",
       "      <td>1475539200</td>\n",
       "      <td>NaN</td>\n",
       "      <td>NaN</td>\n",
       "      <td>NaN</td>\n",
       "      <td>102179</td>\n",
       "      <td>37138</td>\n",
       "      <td>1.0</td>\n",
       "    </tr>\n",
       "    <tr>\n",
       "      <th>1</th>\n",
       "      <td>5.0</td>\n",
       "      <td>True</td>\n",
       "      <td>03 1, 2016</td>\n",
       "      <td>B006F63M8U</td>\n",
       "      <td>Linda Odom</td>\n",
       "      <td>Add A package to my Coffee and it makes a good...</td>\n",
       "      <td>Milk Chocolate Swiis MIss Hot Cocoa Mix</td>\n",
       "      <td>1456790400</td>\n",
       "      <td>NaN</td>\n",
       "      <td>{'Size:': ' 60-0.73 oz Envelopes'}</td>\n",
       "      <td>NaN</td>\n",
       "      <td>3625</td>\n",
       "      <td>17322</td>\n",
       "      <td>1.0</td>\n",
       "    </tr>\n",
       "    <tr>\n",
       "      <th>2</th>\n",
       "      <td>5.0</td>\n",
       "      <td>True</td>\n",
       "      <td>06 26, 2016</td>\n",
       "      <td>B00112O8NG</td>\n",
       "      <td>DesertBlossom</td>\n",
       "      <td>I love the Torani syrups, but not the prices o...</td>\n",
       "      <td>Love these sugar free syrups, but didn't love ...</td>\n",
       "      <td>1466899200</td>\n",
       "      <td>28</td>\n",
       "      <td>NaN</td>\n",
       "      <td>NaN</td>\n",
       "      <td>39495</td>\n",
       "      <td>5600</td>\n",
       "      <td>1.0</td>\n",
       "    </tr>\n",
       "    <tr>\n",
       "      <th>3</th>\n",
       "      <td>5.0</td>\n",
       "      <td>True</td>\n",
       "      <td>09 5, 2013</td>\n",
       "      <td>B00MRAQUM8</td>\n",
       "      <td>Connie L. Reaves</td>\n",
       "      <td>Very fragrant. The price can't be beat. I do l...</td>\n",
       "      <td>Nice !</td>\n",
       "      <td>1378339200</td>\n",
       "      <td>NaN</td>\n",
       "      <td>NaN</td>\n",
       "      <td>NaN</td>\n",
       "      <td>72854</td>\n",
       "      <td>30249</td>\n",
       "      <td>1.0</td>\n",
       "    </tr>\n",
       "    <tr>\n",
       "      <th>4</th>\n",
       "      <td>5.0</td>\n",
       "      <td>True</td>\n",
       "      <td>09 14, 2016</td>\n",
       "      <td>B000R7RN0G</td>\n",
       "      <td>Mike P.</td>\n",
       "      <td>These are my favorite jalapeno chips so far. T...</td>\n",
       "      <td>These are my favorite jalapeno chips so far</td>\n",
       "      <td>1473811200</td>\n",
       "      <td>NaN</td>\n",
       "      <td>{'Flavor:': ' Jalapeo'}</td>\n",
       "      <td>NaN</td>\n",
       "      <td>74859</td>\n",
       "      <td>4349</td>\n",
       "      <td>1.0</td>\n",
       "    </tr>\n",
       "  </tbody>\n",
       "</table>\n",
       "</div>"
      ],
      "text/plain": [
       "   overall  verified   reviewTime        asin      reviewerName  \\\n",
       "0      5.0      True   10 4, 2016  B01CPNIEQG           Heather   \n",
       "1      5.0      True   03 1, 2016  B006F63M8U        Linda Odom   \n",
       "2      5.0      True  06 26, 2016  B00112O8NG     DesertBlossom   \n",
       "3      5.0      True   09 5, 2013  B00MRAQUM8  Connie L. Reaves   \n",
       "4      5.0      True  09 14, 2016  B000R7RN0G           Mike P.   \n",
       "\n",
       "                                          reviewText  \\\n",
       "0  These are my FAVORITE spices in my collection....   \n",
       "1  Add A package to my Coffee and it makes a good...   \n",
       "2  I love the Torani syrups, but not the prices o...   \n",
       "3  Very fragrant. The price can't be beat. I do l...   \n",
       "4  These are my favorite jalapeno chips so far. T...   \n",
       "\n",
       "                                             summary  unixReviewTime vote  \\\n",
       "0                    Must Add to your Spice kitchen!      1475539200  NaN   \n",
       "1            Milk Chocolate Swiis MIss Hot Cocoa Mix      1456790400  NaN   \n",
       "2  Love these sugar free syrups, but didn't love ...      1466899200   28   \n",
       "3                                             Nice !      1378339200  NaN   \n",
       "4        These are my favorite jalapeno chips so far      1473811200  NaN   \n",
       "\n",
       "                                style image  userid  itemid  rating  \n",
       "0                                 NaN   NaN  102179   37138     1.0  \n",
       "1  {'Size:': ' 60-0.73 oz Envelopes'}   NaN    3625   17322     1.0  \n",
       "2                                 NaN   NaN   39495    5600     1.0  \n",
       "3                                 NaN   NaN   72854   30249     1.0  \n",
       "4             {'Flavor:': ' Jalapeo'}   NaN   74859    4349     1.0  "
      ]
     },
     "metadata": {},
     "output_type": "display_data"
    },
    {
     "name": "stdout",
     "output_type": "stream",
     "text": [
      "<class 'pandas.core.frame.DataFrame'>\n",
      "RangeIndex: 857895 entries, 0 to 857894\n",
      "Data columns (total 14 columns):\n",
      " #   Column          Non-Null Count   Dtype  \n",
      "---  ------          --------------   -----  \n",
      " 0   overall         857895 non-null  float64\n",
      " 1   verified        857895 non-null  bool   \n",
      " 2   reviewTime      857895 non-null  object \n",
      " 3   asin            857895 non-null  object \n",
      " 4   reviewerName    857719 non-null  object \n",
      " 5   reviewText      857616 non-null  object \n",
      " 6   summary         857725 non-null  object \n",
      " 7   unixReviewTime  857895 non-null  int64  \n",
      " 8   vote            118740 non-null  object \n",
      " 9   style           444406 non-null  object \n",
      " 10  image           7142 non-null    object \n",
      " 11  userid          857895 non-null  int64  \n",
      " 12  itemid          857895 non-null  int64  \n",
      " 13  rating          857895 non-null  float64\n",
      "dtypes: bool(1), float64(2), int64(3), object(8)\n",
      "memory usage: 85.9+ MB\n"
     ]
    }
   ],
   "source": [
    "display(train.head()) #display нужен для того, чтобы выводить результаты обеих строк\n",
    "train.info() "
   ]
  },
  {
   "cell_type": "code",
   "execution_count": 41,
   "metadata": {},
   "outputs": [
    {
     "data": {
      "text/html": [
       "<div>\n",
       "<style scoped>\n",
       "    .dataframe tbody tr th:only-of-type {\n",
       "        vertical-align: middle;\n",
       "    }\n",
       "\n",
       "    .dataframe tbody tr th {\n",
       "        vertical-align: top;\n",
       "    }\n",
       "\n",
       "    .dataframe thead th {\n",
       "        text-align: right;\n",
       "    }\n",
       "</style>\n",
       "<table border=\"1\" class=\"dataframe\">\n",
       "  <thead>\n",
       "    <tr style=\"text-align: right;\">\n",
       "      <th></th>\n",
       "      <th>verified</th>\n",
       "      <th>reviewTime</th>\n",
       "      <th>asin</th>\n",
       "      <th>reviewerName</th>\n",
       "      <th>unixReviewTime</th>\n",
       "      <th>vote</th>\n",
       "      <th>style</th>\n",
       "      <th>image</th>\n",
       "      <th>userid</th>\n",
       "      <th>itemid</th>\n",
       "      <th>Id</th>\n",
       "    </tr>\n",
       "  </thead>\n",
       "  <tbody>\n",
       "    <tr>\n",
       "      <th>0</th>\n",
       "      <td>True</td>\n",
       "      <td>10 1, 2016</td>\n",
       "      <td>B001E5E3X0</td>\n",
       "      <td>Rudys Mom</td>\n",
       "      <td>1475280000</td>\n",
       "      <td>NaN</td>\n",
       "      <td>NaN</td>\n",
       "      <td>NaN</td>\n",
       "      <td>68877</td>\n",
       "      <td>7506</td>\n",
       "      <td>0</td>\n",
       "    </tr>\n",
       "    <tr>\n",
       "      <th>1</th>\n",
       "      <td>True</td>\n",
       "      <td>06 29, 2014</td>\n",
       "      <td>B005BYXX5E</td>\n",
       "      <td>pharg</td>\n",
       "      <td>1404000000</td>\n",
       "      <td>2</td>\n",
       "      <td>NaN</td>\n",
       "      <td>NaN</td>\n",
       "      <td>50442</td>\n",
       "      <td>15530</td>\n",
       "      <td>1</td>\n",
       "    </tr>\n",
       "    <tr>\n",
       "      <th>2</th>\n",
       "      <td>True</td>\n",
       "      <td>05 19, 2015</td>\n",
       "      <td>B0052OK6OO</td>\n",
       "      <td>dhalex</td>\n",
       "      <td>1431993600</td>\n",
       "      <td>NaN</td>\n",
       "      <td>NaN</td>\n",
       "      <td>NaN</td>\n",
       "      <td>64349</td>\n",
       "      <td>15049</td>\n",
       "      <td>2</td>\n",
       "    </tr>\n",
       "    <tr>\n",
       "      <th>3</th>\n",
       "      <td>True</td>\n",
       "      <td>10 5, 2014</td>\n",
       "      <td>B003SO8HGE</td>\n",
       "      <td>Vanessa</td>\n",
       "      <td>1412467200</td>\n",
       "      <td>NaN</td>\n",
       "      <td>{'Flavor:': ' Sweet Rose'}</td>\n",
       "      <td>NaN</td>\n",
       "      <td>26206</td>\n",
       "      <td>11957</td>\n",
       "      <td>3</td>\n",
       "    </tr>\n",
       "    <tr>\n",
       "      <th>4</th>\n",
       "      <td>True</td>\n",
       "      <td>11 11, 2013</td>\n",
       "      <td>B003XUJ564</td>\n",
       "      <td>R Mohrman</td>\n",
       "      <td>1384128000</td>\n",
       "      <td>3</td>\n",
       "      <td>{'Size:': ' 15 Ounce (Pack of 12)', 'Flavor:':...</td>\n",
       "      <td>NaN</td>\n",
       "      <td>59366</td>\n",
       "      <td>12173</td>\n",
       "      <td>4</td>\n",
       "    </tr>\n",
       "  </tbody>\n",
       "</table>\n",
       "</div>"
      ],
      "text/plain": [
       "   verified   reviewTime        asin reviewerName  unixReviewTime vote  \\\n",
       "0      True   10 1, 2016  B001E5E3X0    Rudys Mom      1475280000  NaN   \n",
       "1      True  06 29, 2014  B005BYXX5E        pharg      1404000000    2   \n",
       "2      True  05 19, 2015  B0052OK6OO       dhalex      1431993600  NaN   \n",
       "3      True   10 5, 2014  B003SO8HGE      Vanessa      1412467200  NaN   \n",
       "4      True  11 11, 2013  B003XUJ564    R Mohrman      1384128000    3   \n",
       "\n",
       "                                               style image  userid  itemid  Id  \n",
       "0                                                NaN   NaN   68877    7506   0  \n",
       "1                                                NaN   NaN   50442   15530   1  \n",
       "2                                                NaN   NaN   64349   15049   2  \n",
       "3                         {'Flavor:': ' Sweet Rose'}   NaN   26206   11957   3  \n",
       "4  {'Size:': ' 15 Ounce (Pack of 12)', 'Flavor:':...   NaN   59366   12173   4  "
      ]
     },
     "metadata": {},
     "output_type": "display_data"
    },
    {
     "name": "stdout",
     "output_type": "stream",
     "text": [
      "<class 'pandas.core.frame.DataFrame'>\n",
      "RangeIndex: 285965 entries, 0 to 285964\n",
      "Data columns (total 11 columns):\n",
      " #   Column          Non-Null Count   Dtype \n",
      "---  ------          --------------   ----- \n",
      " 0   verified        285965 non-null  bool  \n",
      " 1   reviewTime      285965 non-null  object\n",
      " 2   asin            285965 non-null  object\n",
      " 3   reviewerName    285918 non-null  object\n",
      " 4   unixReviewTime  285965 non-null  int64 \n",
      " 5   vote            39462 non-null   object\n",
      " 6   style           147680 non-null  object\n",
      " 7   image           2368 non-null    object\n",
      " 8   userid          285965 non-null  int64 \n",
      " 9   itemid          285965 non-null  int64 \n",
      " 10  Id              285965 non-null  int64 \n",
      "dtypes: bool(1), int64(4), object(6)\n",
      "memory usage: 22.1+ MB\n"
     ]
    }
   ],
   "source": [
    "display(test.head())\n",
    "test.info() "
   ]
  },
  {
   "cell_type": "code",
   "execution_count": 14,
   "metadata": {},
   "outputs": [
    {
     "data": {
      "text/plain": [
       "overall                0\n",
       "verified               0\n",
       "reviewTime             0\n",
       "asin                   0\n",
       "reviewerName         176\n",
       "reviewText           279\n",
       "summary              170\n",
       "unixReviewTime         0\n",
       "vote              739155\n",
       "style             413489\n",
       "image             850753\n",
       "userid                 0\n",
       "itemid                 0\n",
       "rating                 0\n",
       "dtype: int64"
      ]
     },
     "execution_count": 14,
     "metadata": {},
     "output_type": "execute_result"
    }
   ],
   "source": [
    "#вот так виднее сколько пропусков для каждого признака\n",
    "train.isnull().sum()"
   ]
  },
  {
   "cell_type": "code",
   "execution_count": 15,
   "metadata": {},
   "outputs": [
    {
     "data": {
      "text/plain": [
       "verified               0\n",
       "reviewTime             0\n",
       "asin                   0\n",
       "reviewerName          47\n",
       "unixReviewTime         0\n",
       "vote              246503\n",
       "style             138285\n",
       "image             283597\n",
       "userid                 0\n",
       "itemid                 0\n",
       "Id                     0\n",
       "dtype: int64"
      ]
     },
     "execution_count": 15,
     "metadata": {},
     "output_type": "execute_result"
    }
   ],
   "source": [
    "test.isnull().sum()"
   ]
  },
  {
   "cell_type": "code",
   "execution_count": 63,
   "metadata": {},
   "outputs": [
    {
     "data": {
      "image/png": "[encoded data removed]",
      "text/plain": [
       "<Figure size 1440x864 with 1 Axes>"
      ]
     },
     "metadata": {
      "needs_background": "light"
     },
     "output_type": "display_data"
    }
   ],
   "source": [
    "#а вот так еще виднее где пропуски\n",
    "fig, ax = plt.subplots(figsize=(20,12))\n",
    "sns_heatmap = sns.heatmap(train.isnull(), yticklabels=False, cbar=False, cmap='viridis')"
   ]
  },
  {
   "cell_type": "code",
   "execution_count": 64,
   "metadata": {},
   "outputs": [
    {
     "data": {
      "image/png": "[encoded data removed]",
      "text/plain": [
       "<Figure size 1440x864 with 1 Axes>"
      ]
     },
     "metadata": {
      "needs_background": "light"
     },
     "output_type": "display_data"
    }
   ],
   "source": [
    "fig, ax = plt.subplots(figsize=(20,12))\n",
    "sns_heatmap = sns.heatmap(test.isnull(), yticklabels=False, cbar=False, cmap='viridis')"
   ]
  },
  {
   "cell_type": "markdown",
   "metadata": {},
   "source": [
    "__Расшифровка признаков__\n",
    "\n",
    "overall - распределениe первоначальной оценки \n",
    "\n",
    "verified - был ли отзыв верифицирован\n",
    "\n",
    "reviewTime - когда был отзыв написан\n",
    "\n",
    "asin - кодировка товара, на его основании создаются itemid\n",
    "\n",
    "reviewerName - имя пользователя\n",
    "\n",
    "reviewText - текст отзыва\n",
    "\n",
    "summary - сжатый отзыв\n",
    "\n",
    "unixReviewTime  - Unix-время\n",
    "\n",
    "vote - количество голосований за отзыв\n",
    "\n",
    "style - метаданные, какие-то характеристики товара\n",
    "\n",
    "image - изображение продукта\n",
    "\n",
    "userid - id пользователя\n",
    "\n",
    "itemid - id товара\n",
    "\n",
    "id - id для предсказания\n",
    "\n",
    "rating - рейтинг для предсказания, тагет"
   ]
  },
  {
   "cell_type": "markdown",
   "metadata": {},
   "source": [
    "заменим булевы значения на 1 и 0"
   ]
  },
  {
   "cell_type": "code",
   "execution_count": 35,
   "metadata": {},
   "outputs": [],
   "source": [
    "train = train.replace(to_replace = True, value = 1)\n",
    "train = train.replace(to_replace = False, value = 0)\n",
    "test = test.replace(to_replace = True, value = 1)\n",
    "test = test.replace(to_replace = False, value = 0)"
   ]
  },
  {
   "cell_type": "markdown",
   "metadata": {},
   "source": [
    "Напишем функцию, которая покажет нам распределение признаков, выдаст процент пропусков и покажет выбросы для столбцов, у которых определены значения (по описанию датасета)"
   ]
  },
  {
   "cell_type": "code",
   "execution_count": 37,
   "metadata": {},
   "outputs": [],
   "source": [
    "def desription(col, boundaries = None):\n",
    "    print('Столбец', col)\n",
    "    print('Распределение признака:')\n",
    "    fig, ax = plt.subplots()\n",
    "    if train.loc[:, col].dtypes == np.dtype('O'): # Проверка на строковый тип данных\n",
    "        sns.countplot(train.loc[:, col], ax=ax)\n",
    "        plt.show()\n",
    "    else:\n",
    "        \n",
    "        train.loc[:, col].hist(ax=ax)\n",
    "        ax.set_xlabel(col)\n",
    "        ax.set_ylabel('count')\n",
    "        plt.show()\n",
    "        if boundaries is not None: # Проверка на наличие выбросов по информации из датасета\n",
    "            if train.loc[(~train.loc[:, col].between(boundaries[0], boundaries[1]))&\n",
    "                       pd.notnull(train.loc[:, col])].shape[0] > 0:\n",
    "                print('Найдены выбросы:')\n",
    "                display(train.loc[(~train.loc[:, col].between(boundaries[0], boundaries[1]))&\n",
    "                       pd.notnull(train.loc[:, col])])\n",
    "                \n",
    "    print('Процент пропусков:', str(round(100 - train.loc[:, col].count()/train.shape[0]*100, 2)) + '%')\n",
    "    print()\n",
    "    print('Детальное описание:')\n",
    "    print(train.loc[:, col].describe())"
   ]
  },
  {
   "cell_type": "code",
   "execution_count": 40,
   "metadata": {
    "scrolled": true
   },
   "outputs": [
    {
     "name": "stdout",
     "output_type": "stream",
     "text": [
      "Столбец overall\n",
      "Распределение признака:\n"
     ]
    },
    {
     "data": {
      "image/png": "[encoded data removed]",
      "text/plain": [
       "<Figure size 432x288 with 1 Axes>"
      ]
     },
     "metadata": {
      "needs_background": "light"
     },
     "output_type": "display_data"
    },
    {
     "name": "stdout",
     "output_type": "stream",
     "text": [
      "Процент пропусков: 0.0%\n",
      "\n",
      "Детальное описание:\n",
      "count    857895.000000\n",
      "mean          4.441695\n",
      "std           1.064655\n",
      "min           1.000000\n",
      "25%           4.000000\n",
      "50%           5.000000\n",
      "75%           5.000000\n",
      "max           5.000000\n",
      "Name: overall, dtype: float64\n",
      "Столбец verified\n",
      "Распределение признака:\n"
     ]
    },
    {
     "data": {
      "image/png": "[encoded data removed]",
      "text/plain": [
       "<Figure size 432x288 with 1 Axes>"
      ]
     },
     "metadata": {
      "needs_background": "light"
     },
     "output_type": "display_data"
    },
    {
     "name": "stdout",
     "output_type": "stream",
     "text": [
      "Процент пропусков: 0.0%\n",
      "\n",
      "Детальное описание:\n",
      "count    857895.000000\n",
      "mean          0.868688\n",
      "std           0.337742\n",
      "min           0.000000\n",
      "25%           1.000000\n",
      "50%           1.000000\n",
      "75%           1.000000\n",
      "max           1.000000\n",
      "Name: verified, dtype: float64\n",
      "Столбец asin\n",
      "Распределение признака:\n"
     ]
    },
    {
     "data": {
      "image/png": "[encoded data removed]",
      "text/plain": [
       "<Figure size 432x288 with 1 Axes>"
      ]
     },
     "metadata": {
      "needs_background": "light"
     },
     "output_type": "display_data"
    },
    {
     "name": "stdout",
     "output_type": "stream",
     "text": [
      "Процент пропусков: 0.0%\n",
      "\n",
      "Детальное описание:\n",
      "count         857895\n",
      "unique         41302\n",
      "top       B00BUKL666\n",
      "freq            5491\n",
      "Name: asin, dtype: object\n"
     ]
    }
   ],
   "source": [
    "desription('overall', boundaries=(1,5))\n",
    "desription('verified')\n",
    "desription('reviewTime') # нет смысла запускать эту функцию для даты\n",
    "desription('asin')\n",
    "desription('reviewerName')\n",
    "desription('reviewText')\n",
    "desription('summary')\n",
    "desription('unixReviewTime') # нет смысла запускать эту функцию для даты\n",
    "desription('vote')\n",
    "desription('style') # признак содержит метаданные\n",
    "desription('image') # признак содержит ссылку на картинку\n",
    "desription('rating')"
   ]
  },
  {
   "cell_type": "markdown",
   "metadata": {},
   "source": [
    "Столбец reviewerNamе содержит разнообразные произвольные и даже вымышленные значения, не думаю, что они нам помогут для рекомендаций, пользователя будем идентифицировать по userid, а reviewerNamе удалим.\n",
    "\n",
    "Столбцы vote, style, image содержат значительное количество пропусков, их тоже можно удалить   \n",
    "Проделаем это сразу для обоих датасетов\n",
    "\n",
    "Столбцы reviewText и summary содержат текстовую информацию из отзыва, возможно это будет использовано в дальнешнем\n",
    "\n",
    "Столбцы reviewTime и unixReviewTime - это даты отзывов в разных форматах"
   ]
  },
  {
   "cell_type": "code",
   "execution_count": 55,
   "metadata": {},
   "outputs": [],
   "source": [
    "train.drop(['reviewerName', 'vote', 'style', 'image'], axis = 1, inplace=True)\n",
    "test.drop(['reviewerName', 'vote', 'style', 'image'], axis = 1, inplace=True)"
   ]
  },
  {
   "cell_type": "markdown",
   "metadata": {},
   "source": [
    "Теперь посмотрим на распредление оценок в зависимости от рейтинга"
   ]
  },
  {
   "cell_type": "code",
   "execution_count": 49,
   "metadata": {
    "scrolled": false
   },
   "outputs": [
    {
     "data": {
      "text/plain": [
       "overall\n",
       "1.0    0.0\n",
       "2.0    0.0\n",
       "3.0    0.0\n",
       "4.0    1.0\n",
       "5.0    1.0\n",
       "Name: rating, dtype: float64"
      ]
     },
     "execution_count": 49,
     "metadata": {},
     "output_type": "execute_result"
    }
   ],
   "source": [
    "train.groupby(['overall']).rating.mean()"
   ]
  },
  {
   "cell_type": "markdown",
   "metadata": {},
   "source": [
    "То есть, пользователю рекомендованы товары с оценкой 4 и выше, что и было написано в условии"
   ]
  },
  {
   "cell_type": "markdown",
   "metadata": {},
   "source": [
    "asin - кодировка товара, на его основании создаются itedid, он нам будет нужен для формирования таблицы item_features"
   ]
  },
  {
   "cell_type": "code",
   "execution_count": 60,
   "metadata": {
    "scrolled": true
   },
   "outputs": [
    {
     "data": {
      "text/plain": [
       "asin\n",
       "4639725043        1\n",
       "4639725183        0\n",
       "5463213682        2\n",
       "9742356831        3\n",
       "B00004S1C5        4\n",
       "              ...  \n",
       "B01HJ2OFYI    38319\n",
       "B01HJ4FWGG    38320\n",
       "B01HJ7QPKU    38321\n",
       "B01HJCUNOO    38322\n",
       "B01HJF6FRA    38323\n",
       "Name: itemid, Length: 41302, dtype: int64"
      ]
     },
     "execution_count": 60,
     "metadata": {},
     "output_type": "execute_result"
    }
   ],
   "source": [
    "train.groupby(['asin']).itemid.mean()"
   ]
  },
  {
   "cell_type": "markdown",
   "metadata": {},
   "source": [
    "__Метасловарь для продуктов__"
   ]
  },
  {
   "cell_type": "markdown",
   "metadata": {},
   "source": [
    "Будем использовать данные по товарам из файла meta_Grocery_and_Gourmet_Food.json для формирования матрицы признаков товаров (item_features) и самое главное, названия товаров нужны для прототипа"
   ]
  },
  {
   "cell_type": "code",
   "execution_count": 22,
   "metadata": {},
   "outputs": [],
   "source": [
    "import json\n",
    "meta = []\n",
    "with open('meta_Grocery_and_Gourmet_Food.json', 'r') as in_file:\n",
    "    for line in in_file:\n",
    "        meta.append(json.loads(line))"
   ]
  },
  {
   "cell_type": "markdown",
   "metadata": {},
   "source": [
    "посмотрим, что представляет из себя файл json"
   ]
  },
  {
   "cell_type": "code",
   "execution_count": 38,
   "metadata": {},
   "outputs": [
    {
     "data": {
      "text/plain": [
       "(list, 287209, dict)"
      ]
     },
     "execution_count": 38,
     "metadata": {},
     "output_type": "execute_result"
    }
   ],
   "source": [
    "type(meta), len(meta), type(meta[0])"
   ]
  },
  {
   "cell_type": "markdown",
   "metadata": {},
   "source": [
    "Метафайл состоит из списка словарей, описывающих продукты. \n",
    "\n",
    "Длина словарей разная: {4, 5, 6, 7, 8, 9, 10, 11, 12, 13, 14}\n",
    "\n",
    "Ключи такие: {'also_buy', 'also_view', 'asin', 'brand', 'category', 'date', 'description', 'details', 'feature', 'fit', 'image', 'main_cat', 'price', 'rank', 'similar_item', 'tech1', 'title'} \n",
    "\n",
    "Сделаем из этого метафайла датафрейм с признаками товаров. \n",
    "\n",
    "Потом в модель добавим разреженную матрицу, с указанием category каждого продукта. Возьмем следующие признаки: 'asin', ''brand', 'category', 'main_cat', description, price, В категории последних элементов - 1175 штук; предпоследних - 234; первых - 1; вторых - 26. main_cat - 27 штук (совпадает со второй позицией в категории) brands - 38915 штук."
   ]
  },
  {
   "cell_type": "markdown",
   "metadata": {},
   "source": [
    "посмотрим, что получилось"
   ]
  },
  {
   "cell_type": "code",
   "execution_count": 23,
   "metadata": {
    "scrolled": true
   },
   "outputs": [
    {
     "data": {
      "text/html": [
       "<div>\n",
       "<style scoped>\n",
       "    .dataframe tbody tr th:only-of-type {\n",
       "        vertical-align: middle;\n",
       "    }\n",
       "\n",
       "    .dataframe tbody tr th {\n",
       "        vertical-align: top;\n",
       "    }\n",
       "\n",
       "    .dataframe thead th {\n",
       "        text-align: right;\n",
       "    }\n",
       "</style>\n",
       "<table border=\"1\" class=\"dataframe\">\n",
       "  <thead>\n",
       "    <tr style=\"text-align: right;\">\n",
       "      <th></th>\n",
       "      <th>category</th>\n",
       "      <th>description</th>\n",
       "      <th>title</th>\n",
       "      <th>brand</th>\n",
       "      <th>rank</th>\n",
       "      <th>also_view</th>\n",
       "      <th>main_cat</th>\n",
       "      <th>price</th>\n",
       "      <th>asin</th>\n",
       "      <th>also_buy</th>\n",
       "      <th>image</th>\n",
       "      <th>date</th>\n",
       "      <th>feature</th>\n",
       "      <th>details</th>\n",
       "      <th>similar_item</th>\n",
       "      <th>tech1</th>\n",
       "      <th>fit</th>\n",
       "    </tr>\n",
       "  </thead>\n",
       "  <tbody>\n",
       "    <tr>\n",
       "      <th>0</th>\n",
       "      <td>[Grocery &amp; Gourmet Food, Dairy, Cheese &amp; Eggs,...</td>\n",
       "      <td>[BEEMSTER GOUDA CHEESE AGED 18/24 MONTHS, Stat...</td>\n",
       "      <td>Beemster Gouda - Aged 18/24 Months - App. 1.5 Lbs</td>\n",
       "      <td>Ariola Imports</td>\n",
       "      <td>165,181inGroceryGourmetFood(</td>\n",
       "      <td>[B0000D9MYM, B0000D9MYL, B00ADHIGBA, B00H9OX59...</td>\n",
       "      <td>Grocery</td>\n",
       "      <td>$41.91</td>\n",
       "      <td>0681727810</td>\n",
       "      <td>NaN</td>\n",
       "      <td>NaN</td>\n",
       "      <td>NaN</td>\n",
       "      <td>NaN</td>\n",
       "      <td>NaN</td>\n",
       "      <td>NaN</td>\n",
       "      <td>NaN</td>\n",
       "      <td>NaN</td>\n",
       "    </tr>\n",
       "    <tr>\n",
       "      <th>1</th>\n",
       "      <td>[Grocery &amp; Gourmet Food, Cooking &amp; Baking, Sug...</td>\n",
       "      <td>[Shipped from UK, please allow 10 to 21 busine...</td>\n",
       "      <td>Trim Healthy Mama Xylitol</td>\n",
       "      <td>NaN</td>\n",
       "      <td>315,867inGroceryGourmetFood(</td>\n",
       "      <td>NaN</td>\n",
       "      <td>Grocery</td>\n",
       "      <td>NaN</td>\n",
       "      <td>0853347867</td>\n",
       "      <td>[B01898YHXK, B01BCM6LAC, B00Q4OL47O, B00Q4OL5Q...</td>\n",
       "      <td>[https://images-na.ssl-images-amazon.com/image...</td>\n",
       "      <td>NaN</td>\n",
       "      <td>NaN</td>\n",
       "      <td>NaN</td>\n",
       "      <td>NaN</td>\n",
       "      <td>NaN</td>\n",
       "      <td>NaN</td>\n",
       "    </tr>\n",
       "    <tr>\n",
       "      <th>2</th>\n",
       "      <td>[Grocery &amp; Gourmet Food, Cooking &amp; Baking, Fro...</td>\n",
       "      <td>[Jazz up your cakes with a sparkling monogram ...</td>\n",
       "      <td>Letter C - Swarovski Crystal Monogram Wedding ...</td>\n",
       "      <td>Unik Occasions</td>\n",
       "      <td>&gt;#669,941 in Kitchen &amp; Dining (See Top 100 in ...</td>\n",
       "      <td>[B07DXN65TF]</td>\n",
       "      <td>Amazon Home</td>\n",
       "      <td>$29.95</td>\n",
       "      <td>1888861118</td>\n",
       "      <td>NaN</td>\n",
       "      <td>NaN</td>\n",
       "      <td>September 21, 2010</td>\n",
       "      <td>NaN</td>\n",
       "      <td>NaN</td>\n",
       "      <td>NaN</td>\n",
       "      <td>NaN</td>\n",
       "      <td>NaN</td>\n",
       "    </tr>\n",
       "    <tr>\n",
       "      <th>3</th>\n",
       "      <td>[Grocery &amp; Gourmet Food, Cooking &amp; Baking, Fro...</td>\n",
       "      <td>[Large Letter - Height 4.75\"]</td>\n",
       "      <td>Letter H - Swarovski Crystal Monogram Wedding ...</td>\n",
       "      <td>Other</td>\n",
       "      <td>&gt;#832,581 in Kitchen &amp; Dining (See Top 100 in ...</td>\n",
       "      <td>NaN</td>\n",
       "      <td>Amazon Home</td>\n",
       "      <td>$11.45</td>\n",
       "      <td>1888861517</td>\n",
       "      <td>NaN</td>\n",
       "      <td>NaN</td>\n",
       "      <td>September 11, 2011</td>\n",
       "      <td>[Large Letter - Height 4.75\"]</td>\n",
       "      <td>NaN</td>\n",
       "      <td>NaN</td>\n",
       "      <td>NaN</td>\n",
       "      <td>NaN</td>\n",
       "    </tr>\n",
       "    <tr>\n",
       "      <th>4</th>\n",
       "      <td>[Grocery &amp; Gourmet Food, Cooking &amp; Baking, Fro...</td>\n",
       "      <td>[4.75\"]</td>\n",
       "      <td>Letter S - Swarovski Crystal Monogram Wedding ...</td>\n",
       "      <td>Unik Occasions</td>\n",
       "      <td>&gt;#590,999 in Kitchen &amp; Dining (See Top 100 in ...</td>\n",
       "      <td>NaN</td>\n",
       "      <td>Amazon Home</td>\n",
       "      <td>$15.00</td>\n",
       "      <td>1888861614</td>\n",
       "      <td>NaN</td>\n",
       "      <td>NaN</td>\n",
       "      <td>September 11, 2011</td>\n",
       "      <td>[4.75\" height]</td>\n",
       "      <td>NaN</td>\n",
       "      <td>NaN</td>\n",
       "      <td>NaN</td>\n",
       "      <td>NaN</td>\n",
       "    </tr>\n",
       "  </tbody>\n",
       "</table>\n",
       "</div>"
      ],
      "text/plain": [
       "                                            category  \\\n",
       "0  [Grocery & Gourmet Food, Dairy, Cheese & Eggs,...   \n",
       "1  [Grocery & Gourmet Food, Cooking & Baking, Sug...   \n",
       "2  [Grocery & Gourmet Food, Cooking & Baking, Fro...   \n",
       "3  [Grocery & Gourmet Food, Cooking & Baking, Fro...   \n",
       "4  [Grocery & Gourmet Food, Cooking & Baking, Fro...   \n",
       "\n",
       "                                         description  \\\n",
       "0  [BEEMSTER GOUDA CHEESE AGED 18/24 MONTHS, Stat...   \n",
       "1  [Shipped from UK, please allow 10 to 21 busine...   \n",
       "2  [Jazz up your cakes with a sparkling monogram ...   \n",
       "3                      [Large Letter - Height 4.75\"]   \n",
       "4                                            [4.75\"]   \n",
       "\n",
       "                                               title           brand  \\\n",
       "0  Beemster Gouda - Aged 18/24 Months - App. 1.5 Lbs  Ariola Imports   \n",
       "1                          Trim Healthy Mama Xylitol             NaN   \n",
       "2  Letter C - Swarovski Crystal Monogram Wedding ...  Unik Occasions   \n",
       "3  Letter H - Swarovski Crystal Monogram Wedding ...           Other   \n",
       "4  Letter S - Swarovski Crystal Monogram Wedding ...  Unik Occasions   \n",
       "\n",
       "                                                rank  \\\n",
       "0                       165,181inGroceryGourmetFood(   \n",
       "1                       315,867inGroceryGourmetFood(   \n",
       "2  >#669,941 in Kitchen & Dining (See Top 100 in ...   \n",
       "3  >#832,581 in Kitchen & Dining (See Top 100 in ...   \n",
       "4  >#590,999 in Kitchen & Dining (See Top 100 in ...   \n",
       "\n",
       "                                           also_view     main_cat   price  \\\n",
       "0  [B0000D9MYM, B0000D9MYL, B00ADHIGBA, B00H9OX59...      Grocery  $41.91   \n",
       "1                                                NaN      Grocery     NaN   \n",
       "2                                       [B07DXN65TF]  Amazon Home  $29.95   \n",
       "3                                                NaN  Amazon Home  $11.45   \n",
       "4                                                NaN  Amazon Home  $15.00   \n",
       "\n",
       "         asin                                           also_buy  \\\n",
       "0  0681727810                                                NaN   \n",
       "1  0853347867  [B01898YHXK, B01BCM6LAC, B00Q4OL47O, B00Q4OL5Q...   \n",
       "2  1888861118                                                NaN   \n",
       "3  1888861517                                                NaN   \n",
       "4  1888861614                                                NaN   \n",
       "\n",
       "                                               image                date  \\\n",
       "0                                                NaN                 NaN   \n",
       "1  [https://images-na.ssl-images-amazon.com/image...                 NaN   \n",
       "2                                                NaN  September 21, 2010   \n",
       "3                                                NaN  September 11, 2011   \n",
       "4                                                NaN  September 11, 2011   \n",
       "\n",
       "                         feature details similar_item tech1  fit  \n",
       "0                            NaN     NaN          NaN   NaN  NaN  \n",
       "1                            NaN     NaN          NaN   NaN  NaN  \n",
       "2                            NaN     NaN          NaN   NaN  NaN  \n",
       "3  [Large Letter - Height 4.75\"]     NaN          NaN   NaN  NaN  \n",
       "4                 [4.75\" height]     NaN          NaN   NaN  NaN  "
      ]
     },
     "execution_count": 23,
     "metadata": {},
     "output_type": "execute_result"
    }
   ],
   "source": [
    "items = pd.DataFrame(meta)\n",
    "items.head()"
   ]
  },
  {
   "cell_type": "markdown",
   "metadata": {},
   "source": [
    "выведем основую информацию о получившемся датафрейме"
   ]
  },
  {
   "cell_type": "code",
   "execution_count": 24,
   "metadata": {
    "scrolled": false
   },
   "outputs": [
    {
     "name": "stdout",
     "output_type": "stream",
     "text": [
      "<class 'pandas.core.frame.DataFrame'>\n",
      "RangeIndex: 287209 entries, 0 to 287208\n",
      "Data columns (total 17 columns):\n",
      " #   Column        Non-Null Count   Dtype \n",
      "---  ------        --------------   ----- \n",
      " 0   category      287209 non-null  object\n",
      " 1   description   251802 non-null  object\n",
      " 2   title         287205 non-null  object\n",
      " 3   brand         275787 non-null  object\n",
      " 4   rank          275494 non-null  object\n",
      " 5   also_view     121012 non-null  object\n",
      " 6   main_cat      285716 non-null  object\n",
      " 7   price         132136 non-null  object\n",
      " 8   asin          287209 non-null  object\n",
      " 9   also_buy      83332 non-null   object\n",
      " 10  image         150214 non-null  object\n",
      " 11  date          9663 non-null    object\n",
      " 12  feature       16374 non-null   object\n",
      " 13  details       273323 non-null  object\n",
      " 14  similar_item  256 non-null     object\n",
      " 15  tech1         744 non-null     object\n",
      " 16  fit           4 non-null       object\n",
      "dtypes: object(17)\n",
      "memory usage: 37.3+ MB\n"
     ]
    }
   ],
   "source": [
    "items.info()"
   ]
  },
  {
   "cell_type": "markdown",
   "metadata": {},
   "source": [
    "Создадим фичи для продуктов\n",
    "сосчитаем, сколько всего отзывов на товар было оставлено"
   ]
  },
  {
   "cell_type": "code",
   "execution_count": 25,
   "metadata": {},
   "outputs": [],
   "source": [
    "items['count_rev'] = train[['itemid', 'unixReviewTime']].groupby('itemid').count() \n",
    "items['asin'] = train[['itemid', 'asin']].groupby('itemid').first()"
   ]
  },
  {
   "cell_type": "markdown",
   "metadata": {},
   "source": [
    "создадим новую колонку item_id, потом по ней и будем выводить рекомендованный товар"
   ]
  },
  {
   "cell_type": "code",
   "execution_count": 26,
   "metadata": {},
   "outputs": [],
   "source": [
    "items['item_id'] = df.index"
   ]
  },
  {
   "cell_type": "markdown",
   "metadata": {},
   "source": [
    "добавим среднюю оценку для каждого товара"
   ]
  },
  {
   "cell_type": "code",
   "execution_count": 27,
   "metadata": {},
   "outputs": [],
   "source": [
    "items['overall_mean'] = train[['itemid', 'overall']].groupby('itemid').mean()"
   ]
  },
  {
   "cell_type": "markdown",
   "metadata": {},
   "source": [
    "Посмотрим на зависимость средней оценки от количетсва отзывов"
   ]
  },
  {
   "cell_type": "code",
   "execution_count": 11,
   "metadata": {},
   "outputs": [
    {
     "data": {
      "text/plain": [
       "<matplotlib.collections.PathCollection at 0x7fc5566d8610>"
      ]
     },
     "execution_count": 11,
     "metadata": {},
     "output_type": "execute_result"
    },
    {
     "data": {
      "image/png": "[encoded data removed]",
      "text/plain": [
       "<Figure size 432x288 with 1 Axes>"
      ]
     },
     "metadata": {
      "needs_background": "light"
     },
     "output_type": "display_data"
    }
   ],
   "source": [
    "plt.scatter(items.count_rev, items.overall_mean)"
   ]
  },
  {
   "cell_type": "markdown",
   "metadata": {},
   "source": [
    "По нашему графику видно, что для часто покупаемых товаров характерны высокие оценки"
   ]
  },
  {
   "cell_type": "markdown",
   "metadata": {},
   "source": [
    "оставим категорию самую последнюю"
   ]
  },
  {
   "cell_type": "code",
   "execution_count": 28,
   "metadata": {},
   "outputs": [],
   "source": [
    "items['category'] = items['category'].apply(lambda x: x[-1])"
   ]
  },
  {
   "cell_type": "markdown",
   "metadata": {},
   "source": [
    "присваиваем каждой категории свой id"
   ]
  },
  {
   "cell_type": "code",
   "execution_count": 29,
   "metadata": {},
   "outputs": [
    {
     "name": "stdout",
     "output_type": "stream",
     "text": [
      "всего категорий: 1175\n"
     ]
    }
   ],
   "source": [
    "set_category = set(items.category.unique())\n",
    "print(f'всего категорий: {len(set_category)}')\n",
    "mapper = dict(zip(set_category, range(len(set_category))))\n",
    "items['cat_id'] = items['category'].apply(lambda x: mapper[x])"
   ]
  },
  {
   "cell_type": "markdown",
   "metadata": {},
   "source": [
    "Заменяем пропуски (самый простой вариант - сделала замену пропусков на прочее)"
   ]
  },
  {
   "cell_type": "code",
   "execution_count": 30,
   "metadata": {},
   "outputs": [],
   "source": [
    "items['main_cat'].fillna('Other', inplace = True)\n",
    "items['brand'].fillna('Other', inplace = True)\n",
    "items['price'].fillna('NA', inplace = True)"
   ]
  },
  {
   "cell_type": "markdown",
   "metadata": {},
   "source": [
    "оставляем только часть колонок"
   ]
  },
  {
   "cell_type": "code",
   "execution_count": 31,
   "metadata": {
    "scrolled": true
   },
   "outputs": [
    {
     "data": {
      "text/html": [
       "<div>\n",
       "<style scoped>\n",
       "    .dataframe tbody tr th:only-of-type {\n",
       "        vertical-align: middle;\n",
       "    }\n",
       "\n",
       "    .dataframe tbody tr th {\n",
       "        vertical-align: top;\n",
       "    }\n",
       "\n",
       "    .dataframe thead th {\n",
       "        text-align: right;\n",
       "    }\n",
       "</style>\n",
       "<table border=\"1\" class=\"dataframe\">\n",
       "  <thead>\n",
       "    <tr style=\"text-align: right;\">\n",
       "      <th></th>\n",
       "      <th>item_id</th>\n",
       "      <th>category</th>\n",
       "      <th>title</th>\n",
       "      <th>brand</th>\n",
       "      <th>main_cat</th>\n",
       "      <th>price</th>\n",
       "      <th>asin</th>\n",
       "      <th>count_rev</th>\n",
       "      <th>overall_mean</th>\n",
       "      <th>cat_id</th>\n",
       "    </tr>\n",
       "  </thead>\n",
       "  <tbody>\n",
       "    <tr>\n",
       "      <th>0</th>\n",
       "      <td>0</td>\n",
       "      <td>Gouda</td>\n",
       "      <td>Beemster Gouda - Aged 18/24 Months - App. 1.5 Lbs</td>\n",
       "      <td>Ariola Imports</td>\n",
       "      <td>Grocery</td>\n",
       "      <td>$41.91</td>\n",
       "      <td>4639725183</td>\n",
       "      <td>8.0</td>\n",
       "      <td>4.875000</td>\n",
       "      <td>168</td>\n",
       "    </tr>\n",
       "    <tr>\n",
       "      <th>1</th>\n",
       "      <td>1</td>\n",
       "      <td>Xylitol</td>\n",
       "      <td>Trim Healthy Mama Xylitol</td>\n",
       "      <td>Other</td>\n",
       "      <td>Grocery</td>\n",
       "      <td>NA</td>\n",
       "      <td>4639725043</td>\n",
       "      <td>21.0</td>\n",
       "      <td>4.190476</td>\n",
       "      <td>1027</td>\n",
       "    </tr>\n",
       "    <tr>\n",
       "      <th>2</th>\n",
       "      <td>2</td>\n",
       "      <td>Cake Toppers</td>\n",
       "      <td>Letter C - Swarovski Crystal Monogram Wedding ...</td>\n",
       "      <td>Unik Occasions</td>\n",
       "      <td>Amazon Home</td>\n",
       "      <td>$29.95</td>\n",
       "      <td>5463213682</td>\n",
       "      <td>7.0</td>\n",
       "      <td>4.857143</td>\n",
       "      <td>410</td>\n",
       "    </tr>\n",
       "    <tr>\n",
       "      <th>3</th>\n",
       "      <td>3</td>\n",
       "      <td>Cake Toppers</td>\n",
       "      <td>Letter H - Swarovski Crystal Monogram Wedding ...</td>\n",
       "      <td>Other</td>\n",
       "      <td>Amazon Home</td>\n",
       "      <td>$11.45</td>\n",
       "      <td>9742356831</td>\n",
       "      <td>74.0</td>\n",
       "      <td>4.581081</td>\n",
       "      <td>410</td>\n",
       "    </tr>\n",
       "    <tr>\n",
       "      <th>4</th>\n",
       "      <td>4</td>\n",
       "      <td>Cake Toppers</td>\n",
       "      <td>Letter S - Swarovski Crystal Monogram Wedding ...</td>\n",
       "      <td>Unik Occasions</td>\n",
       "      <td>Amazon Home</td>\n",
       "      <td>$15.00</td>\n",
       "      <td>B00004S1C5</td>\n",
       "      <td>10.0</td>\n",
       "      <td>4.400000</td>\n",
       "      <td>410</td>\n",
       "    </tr>\n",
       "  </tbody>\n",
       "</table>\n",
       "</div>"
      ],
      "text/plain": [
       "   item_id      category                                              title  \\\n",
       "0        0         Gouda  Beemster Gouda - Aged 18/24 Months - App. 1.5 Lbs   \n",
       "1        1       Xylitol                          Trim Healthy Mama Xylitol   \n",
       "2        2  Cake Toppers  Letter C - Swarovski Crystal Monogram Wedding ...   \n",
       "3        3  Cake Toppers  Letter H - Swarovski Crystal Monogram Wedding ...   \n",
       "4        4  Cake Toppers  Letter S - Swarovski Crystal Monogram Wedding ...   \n",
       "\n",
       "            brand     main_cat   price        asin  count_rev  overall_mean  \\\n",
       "0  Ariola Imports      Grocery  $41.91  4639725183        8.0      4.875000   \n",
       "1           Other      Grocery      NA  4639725043       21.0      4.190476   \n",
       "2  Unik Occasions  Amazon Home  $29.95  5463213682        7.0      4.857143   \n",
       "3           Other  Amazon Home  $11.45  9742356831       74.0      4.581081   \n",
       "4  Unik Occasions  Amazon Home  $15.00  B00004S1C5       10.0      4.400000   \n",
       "\n",
       "   cat_id  \n",
       "0     168  \n",
       "1    1027  \n",
       "2     410  \n",
       "3     410  \n",
       "4     410  "
      ]
     },
     "execution_count": 31,
     "metadata": {},
     "output_type": "execute_result"
    }
   ],
   "source": [
    "items = items[['item_id','category', 'title', 'brand', 'main_cat', 'price', 'asin', 'count_rev', 'overall_mean','cat_id']]\n",
    "items.head()"
   ]
  },
  {
   "cell_type": "markdown",
   "metadata": {},
   "source": [
    "удалим дубликаты из датасета с описанием товаров"
   ]
  },
  {
   "cell_type": "code",
   "execution_count": 32,
   "metadata": {},
   "outputs": [],
   "source": [
    "items=items.drop_duplicates(keep='first')"
   ]
  },
  {
   "cell_type": "markdown",
   "metadata": {},
   "source": [
    "удалим строки с пропусками"
   ]
  },
  {
   "cell_type": "code",
   "execution_count": 33,
   "metadata": {},
   "outputs": [],
   "source": [
    "items = items.dropna(axis=0) "
   ]
  },
  {
   "cell_type": "code",
   "execution_count": 34,
   "metadata": {},
   "outputs": [
    {
     "data": {
      "text/html": [
       "<div>\n",
       "<style scoped>\n",
       "    .dataframe tbody tr th:only-of-type {\n",
       "        vertical-align: middle;\n",
       "    }\n",
       "\n",
       "    .dataframe tbody tr th {\n",
       "        vertical-align: top;\n",
       "    }\n",
       "\n",
       "    .dataframe thead th {\n",
       "        text-align: right;\n",
       "    }\n",
       "</style>\n",
       "<table border=\"1\" class=\"dataframe\">\n",
       "  <thead>\n",
       "    <tr style=\"text-align: right;\">\n",
       "      <th></th>\n",
       "      <th>item_id</th>\n",
       "      <th>category</th>\n",
       "      <th>title</th>\n",
       "      <th>brand</th>\n",
       "      <th>main_cat</th>\n",
       "      <th>price</th>\n",
       "      <th>asin</th>\n",
       "      <th>count_rev</th>\n",
       "      <th>overall_mean</th>\n",
       "      <th>cat_id</th>\n",
       "    </tr>\n",
       "  </thead>\n",
       "  <tbody>\n",
       "    <tr>\n",
       "      <th>0</th>\n",
       "      <td>0</td>\n",
       "      <td>Gouda</td>\n",
       "      <td>Beemster Gouda - Aged 18/24 Months - App. 1.5 Lbs</td>\n",
       "      <td>Ariola Imports</td>\n",
       "      <td>Grocery</td>\n",
       "      <td>$41.91</td>\n",
       "      <td>4639725183</td>\n",
       "      <td>8.0</td>\n",
       "      <td>4.875000</td>\n",
       "      <td>168</td>\n",
       "    </tr>\n",
       "    <tr>\n",
       "      <th>1</th>\n",
       "      <td>1</td>\n",
       "      <td>Xylitol</td>\n",
       "      <td>Trim Healthy Mama Xylitol</td>\n",
       "      <td>Other</td>\n",
       "      <td>Grocery</td>\n",
       "      <td>NA</td>\n",
       "      <td>4639725043</td>\n",
       "      <td>21.0</td>\n",
       "      <td>4.190476</td>\n",
       "      <td>1027</td>\n",
       "    </tr>\n",
       "    <tr>\n",
       "      <th>2</th>\n",
       "      <td>2</td>\n",
       "      <td>Cake Toppers</td>\n",
       "      <td>Letter C - Swarovski Crystal Monogram Wedding ...</td>\n",
       "      <td>Unik Occasions</td>\n",
       "      <td>Amazon Home</td>\n",
       "      <td>$29.95</td>\n",
       "      <td>5463213682</td>\n",
       "      <td>7.0</td>\n",
       "      <td>4.857143</td>\n",
       "      <td>410</td>\n",
       "    </tr>\n",
       "    <tr>\n",
       "      <th>3</th>\n",
       "      <td>3</td>\n",
       "      <td>Cake Toppers</td>\n",
       "      <td>Letter H - Swarovski Crystal Monogram Wedding ...</td>\n",
       "      <td>Other</td>\n",
       "      <td>Amazon Home</td>\n",
       "      <td>$11.45</td>\n",
       "      <td>9742356831</td>\n",
       "      <td>74.0</td>\n",
       "      <td>4.581081</td>\n",
       "      <td>410</td>\n",
       "    </tr>\n",
       "    <tr>\n",
       "      <th>4</th>\n",
       "      <td>4</td>\n",
       "      <td>Cake Toppers</td>\n",
       "      <td>Letter S - Swarovski Crystal Monogram Wedding ...</td>\n",
       "      <td>Unik Occasions</td>\n",
       "      <td>Amazon Home</td>\n",
       "      <td>$15.00</td>\n",
       "      <td>B00004S1C5</td>\n",
       "      <td>10.0</td>\n",
       "      <td>4.400000</td>\n",
       "      <td>410</td>\n",
       "    </tr>\n",
       "    <tr>\n",
       "      <th>...</th>\n",
       "      <td>...</td>\n",
       "      <td>...</td>\n",
       "      <td>...</td>\n",
       "      <td>...</td>\n",
       "      <td>...</td>\n",
       "      <td>...</td>\n",
       "      <td>...</td>\n",
       "      <td>...</td>\n",
       "      <td>...</td>\n",
       "      <td>...</td>\n",
       "    </tr>\n",
       "    <tr>\n",
       "      <th>41315</th>\n",
       "      <td>41315</td>\n",
       "      <td>Mixed Nuts</td>\n",
       "      <td>var aPageStart = (new Date()).getTime();\\nvar ...</td>\n",
       "      <td>Planters</td>\n",
       "      <td>Grocery</td>\n",
       "      <td>$35.99</td>\n",
       "      <td>B01H8ET97A</td>\n",
       "      <td>4.0</td>\n",
       "      <td>4.000000</td>\n",
       "      <td>797</td>\n",
       "    </tr>\n",
       "    <tr>\n",
       "      <th>41316</th>\n",
       "      <td>41316</td>\n",
       "      <td>Oatmeal</td>\n",
       "      <td>Quaker Simple Harvest Maple Brown Sugar With P...</td>\n",
       "      <td>Quaker</td>\n",
       "      <td>Grocery</td>\n",
       "      <td>NA</td>\n",
       "      <td>B01H8ET9G6</td>\n",
       "      <td>3.0</td>\n",
       "      <td>4.666667</td>\n",
       "      <td>900</td>\n",
       "    </tr>\n",
       "    <tr>\n",
       "      <th>41317</th>\n",
       "      <td>41317</td>\n",
       "      <td>Ground Coffee</td>\n",
       "      <td>Folgers Gourmet Selections Coffee, Morning Caf...</td>\n",
       "      <td>Folgers</td>\n",
       "      <td>Grocery</td>\n",
       "      <td>NA</td>\n",
       "      <td>B01H8FA2U2</td>\n",
       "      <td>4.0</td>\n",
       "      <td>4.250000</td>\n",
       "      <td>1154</td>\n",
       "    </tr>\n",
       "    <tr>\n",
       "      <th>41318</th>\n",
       "      <td>41318</td>\n",
       "      <td>Breadsticks</td>\n",
       "      <td>Salem Baking Company Original Cheddar Cheese S...</td>\n",
       "      <td>Salem Baking Co.</td>\n",
       "      <td>Grocery</td>\n",
       "      <td>NA</td>\n",
       "      <td>B01HGBEYRU</td>\n",
       "      <td>2.0</td>\n",
       "      <td>5.000000</td>\n",
       "      <td>784</td>\n",
       "    </tr>\n",
       "    <tr>\n",
       "      <th>41319</th>\n",
       "      <td>41319</td>\n",
       "      <td>Fresh Vegetables</td>\n",
       "      <td>Del Destino Italian Style Grilled Artichoke He...</td>\n",
       "      <td>Del Destino</td>\n",
       "      <td>Grocery</td>\n",
       "      <td>NA</td>\n",
       "      <td>B01HIY2FI0</td>\n",
       "      <td>2.0</td>\n",
       "      <td>4.500000</td>\n",
       "      <td>580</td>\n",
       "    </tr>\n",
       "  </tbody>\n",
       "</table>\n",
       "<p>41301 rows × 10 columns</p>\n",
       "</div>"
      ],
      "text/plain": [
       "       item_id          category  \\\n",
       "0            0             Gouda   \n",
       "1            1           Xylitol   \n",
       "2            2      Cake Toppers   \n",
       "3            3      Cake Toppers   \n",
       "4            4      Cake Toppers   \n",
       "...        ...               ...   \n",
       "41315    41315        Mixed Nuts   \n",
       "41316    41316           Oatmeal   \n",
       "41317    41317     Ground Coffee   \n",
       "41318    41318       Breadsticks   \n",
       "41319    41319  Fresh Vegetables   \n",
       "\n",
       "                                                   title             brand  \\\n",
       "0      Beemster Gouda - Aged 18/24 Months - App. 1.5 Lbs    Ariola Imports   \n",
       "1                              Trim Healthy Mama Xylitol             Other   \n",
       "2      Letter C - Swarovski Crystal Monogram Wedding ...    Unik Occasions   \n",
       "3      Letter H - Swarovski Crystal Monogram Wedding ...             Other   \n",
       "4      Letter S - Swarovski Crystal Monogram Wedding ...    Unik Occasions   \n",
       "...                                                  ...               ...   \n",
       "41315  var aPageStart = (new Date()).getTime();\\nvar ...          Planters   \n",
       "41316  Quaker Simple Harvest Maple Brown Sugar With P...            Quaker   \n",
       "41317  Folgers Gourmet Selections Coffee, Morning Caf...           Folgers   \n",
       "41318  Salem Baking Company Original Cheddar Cheese S...  Salem Baking Co.   \n",
       "41319  Del Destino Italian Style Grilled Artichoke He...       Del Destino   \n",
       "\n",
       "          main_cat   price        asin  count_rev  overall_mean  cat_id  \n",
       "0          Grocery  $41.91  4639725183        8.0      4.875000     168  \n",
       "1          Grocery      NA  4639725043       21.0      4.190476    1027  \n",
       "2      Amazon Home  $29.95  5463213682        7.0      4.857143     410  \n",
       "3      Amazon Home  $11.45  9742356831       74.0      4.581081     410  \n",
       "4      Amazon Home  $15.00  B00004S1C5       10.0      4.400000     410  \n",
       "...            ...     ...         ...        ...           ...     ...  \n",
       "41315      Grocery  $35.99  B01H8ET97A        4.0      4.000000     797  \n",
       "41316      Grocery      NA  B01H8ET9G6        3.0      4.666667     900  \n",
       "41317      Grocery      NA  B01H8FA2U2        4.0      4.250000    1154  \n",
       "41318      Grocery      NA  B01HGBEYRU        2.0      5.000000     784  \n",
       "41319      Grocery      NA  B01HIY2FI0        2.0      4.500000     580  \n",
       "\n",
       "[41301 rows x 10 columns]"
      ]
     },
     "execution_count": 34,
     "metadata": {},
     "output_type": "execute_result"
    }
   ],
   "source": [
    "items"
   ]
  },
  {
   "cell_type": "code",
   "execution_count": 35,
   "metadata": {},
   "outputs": [
    {
     "data": {
      "text/plain": [
       "41301"
      ]
     },
     "execution_count": 35,
     "metadata": {},
     "output_type": "execute_result"
    }
   ],
   "source": [
    "len(items)"
   ]
  },
  {
   "cell_type": "markdown",
   "metadata": {},
   "source": [
    "запишем получившийся датафрейм в файл"
   ]
  },
  {
   "cell_type": "code",
   "execution_count": 19,
   "metadata": {},
   "outputs": [],
   "source": [
    "items.to_csv('items.csv')"
   ]
  },
  {
   "cell_type": "markdown",
   "metadata": {},
   "source": [
    "вот эту цифру потом укажем в прототипе, чтобы пользователь знал, из какого диапазона выбирать"
   ]
  },
  {
   "cell_type": "markdown",
   "metadata": {},
   "source": [
    "Если не делать фичи для айтемов, хватит и 2х колонок, и главное места в heroku будет занимать меньше, поэтому сделаем 2й вариант датасета, только с item_id и названием товара"
   ]
  },
  {
   "cell_type": "code",
   "execution_count": 36,
   "metadata": {},
   "outputs": [],
   "source": [
    "item = items[['item_id', 'title']]"
   ]
  },
  {
   "cell_type": "markdown",
   "metadata": {},
   "source": [
    "тоже запишем получившийся датафрейм в файл"
   ]
  },
  {
   "cell_type": "code",
   "execution_count": 37,
   "metadata": {},
   "outputs": [],
   "source": [
    "item.to_csv('item.csv')"
   ]
  },
  {
   "cell_type": "markdown",
   "metadata": {},
   "source": [
    "__Выводы:__\n",
    "\n",
    "в этом задании кажется логичным сконцентрироваться на том, чтобы попробовать разные библиотеки, разведывательному анализу данных было уделено немного внимания. Самое главное, что в необходимых признаках (itemid, userid) и таргете (rating) пропусков нет. \n",
    "\n",
    "Также было создано 2 датафрейма с характеристиками продуктов (для создания item_features и более облегченный вариант для прототипа)"
   ]
  }
 ],
 "metadata": {
  "kernelspec": {
   "display_name": "Python 3",
   "language": "python",
   "name": "python3"
  },
  "language_info": {
   "codemirror_mode": {
    "name": "ipython",
    "version": 3
   },
   "file_extension": ".py",
   "mimetype": "text/x-python",
   "name": "python",
   "nbconvert_exporter": "python",
   "pygments_lexer": "ipython3",
   "version": "3.7.6"
  },
  "toc": {
   "base_numbering": 1,
   "nav_menu": {},
   "number_sections": true,
   "sideBar": true,
   "skip_h1_title": false,
   "title_cell": "Table of Contents",
   "title_sidebar": "Contents",
   "toc_cell": false,
   "toc_position": {},
   "toc_section_display": true,
   "toc_window_display": false
  },
  "varInspector": {
   "cols": {
    "lenName": 16,
    "lenType": 16,
    "lenVar": 40
   },
   "kernels_config": {
    "python": {
     "delete_cmd_postfix": "",
     "delete_cmd_prefix": "del ",
     "library": "var_list.py",
     "varRefreshCmd": "print(var_dic_list())"
    },
    "r": {
     "delete_cmd_postfix": ") ",
     "delete_cmd_prefix": "rm(",
     "library": "var_list.r",
     "varRefreshCmd": "cat(var_dic_list()) "
    }
   },
   "types_to_exclude": [
    "module",
    "function",
    "builtin_function_or_method",
    "instance",
    "_Feature"
   ],
   "window_display": false
  }
 },
 "nbformat": 4,
 "nbformat_minor": 4
}
